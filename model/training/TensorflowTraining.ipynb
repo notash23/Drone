{
 "cells": [
  {
   "cell_type": "markdown",
   "metadata": {
    "id": "QUANWN3rpfC9"
   },
   "source": [
    "# 0. Setup Paths"
   ]
  },
  {
   "cell_type": "code",
   "metadata": {
    "id": "146BB11JpfDA",
    "ExecuteTime": {
     "end_time": "2024-11-13T22:45:18.474809Z",
     "start_time": "2024-11-13T22:45:18.463662Z"
    }
   },
   "source": "import os",
   "outputs": [],
   "execution_count": 1
  },
  {
   "cell_type": "code",
   "metadata": {
    "id": "42hJEdo_pfDB",
    "ExecuteTime": {
     "end_time": "2024-11-13T22:45:23.390113Z",
     "start_time": "2024-11-13T22:45:23.378988Z"
    }
   },
   "source": [
    "CUSTOM_MODEL_NAME = 'robot_ssd_mobnet_big' \n",
    "PRETRAINED_MODEL_NAME = 'ssd_mobilenet_v2_fpnlite_640x640_coco17_tpu-8'\n",
    "PRETRAINED_MODEL_URL = 'http://download.tensorflow.org/models/object_detection/tf2/20200711/ssd_mobilenet_v2_fpnlite_640x640_coco17_tpu-8.tar.gz'\n",
    "TF_RECORD_SCRIPT_NAME = 'generate_tfrecord.py'\n",
    "LABEL_MAP_NAME = 'label_map.pbtxt'"
   ],
   "outputs": [],
   "execution_count": 3
  },
  {
   "cell_type": "code",
   "metadata": {
    "id": "hbPhYVy_pfDB",
    "ExecuteTime": {
     "end_time": "2024-11-13T22:45:24.117961Z",
     "start_time": "2024-11-13T22:45:24.107654Z"
    }
   },
   "source": [
    "paths = {\n",
    "    'WORKSPACE_PATH': os.path.join('Tensorflow', 'workspace'),\n",
    "    'SCRIPTS_PATH': os.path.join('Tensorflow','scripts'),\n",
    "    'APIMODEL_PATH': os.path.join('Tensorflow','models'),\n",
    "    'ANNOTATION_PATH': os.path.join('Tensorflow', 'workspace','annotations'),\n",
    "    'IMAGE_PATH': os.path.join('Tensorflow', 'workspace','images'),\n",
    "    'MODEL_PATH': os.path.join('Tensorflow', 'workspace','models'),\n",
    "    'PRETRAINED_MODEL_PATH': os.path.join('Tensorflow', 'workspace','pre-trained-models'),\n",
    "    'CHECKPOINT_PATH': os.path.join('Tensorflow', 'workspace','models',CUSTOM_MODEL_NAME), \n",
    "    'OUTPUT_PATH': os.path.join('Tensorflow', 'workspace','models',CUSTOM_MODEL_NAME, 'export'), \n",
    "    'TFJS_PATH':os.path.join('Tensorflow', 'workspace','models',CUSTOM_MODEL_NAME, 'tfjsexport'), \n",
    "    'TFLITE_PATH':os.path.join('Tensorflow', 'workspace','models',CUSTOM_MODEL_NAME, 'tfliteexport'), \n",
    "    'PROTOC_PATH':os.path.join('Tensorflow','protoc')\n",
    " }"
   ],
   "outputs": [],
   "execution_count": 4
  },
  {
   "cell_type": "code",
   "metadata": {
    "id": "LwhWZMI0pfDC",
    "ExecuteTime": {
     "end_time": "2024-11-13T22:45:24.861589Z",
     "start_time": "2024-11-13T22:45:24.853420Z"
    }
   },
   "source": [
    "files = {\n",
    "    'PIPELINE_CONFIG':os.path.join('Tensorflow', 'workspace','models', CUSTOM_MODEL_NAME, 'pipeline.config'),\n",
    "    'TF_RECORD_SCRIPT': os.path.join(paths['SCRIPTS_PATH'], TF_RECORD_SCRIPT_NAME), \n",
    "    'LABELMAP': os.path.join(paths['ANNOTATION_PATH'], LABEL_MAP_NAME)\n",
    "}"
   ],
   "outputs": [],
   "execution_count": 5
  },
  {
   "cell_type": "code",
   "metadata": {
    "id": "HR-TfDGrpfDC",
    "ExecuteTime": {
     "end_time": "2024-11-13T22:45:25.837727Z",
     "start_time": "2024-11-13T22:45:25.698998Z"
    }
   },
   "source": [
    "for path in paths.values():\n",
    "    if not os.path.exists(path):\n",
    "        !mkdir {path}"
   ],
   "outputs": [],
   "execution_count": 6
  },
  {
   "cell_type": "markdown",
   "metadata": {
    "id": "OLU-rs_ipfDE"
   },
   "source": [
    "# 1. Download TF Models Pretrained Models from Tensorflow Model Zoo and Install TFOD"
   ]
  },
  {
   "cell_type": "code",
   "metadata": {
    "ExecuteTime": {
     "end_time": "2024-11-13T22:45:26.674117Z",
     "start_time": "2024-11-13T22:45:26.655818Z"
    }
   },
   "source": [
    "# https://www.tensorflow.org/install/source_windows"
   ],
   "outputs": [],
   "execution_count": 7
  },
  {
   "cell_type": "code",
   "metadata": {
    "id": "K-Cmz2edpfDE",
    "scrolled": true,
    "ExecuteTime": {
     "end_time": "2024-11-13T22:45:26.990967Z",
     "start_time": "2024-11-13T22:45:26.971690Z"
    }
   },
   "source": "import wget",
   "outputs": [],
   "execution_count": 8
  },
  {
   "cell_type": "code",
   "metadata": {
    "id": "iA1DIq5OpfDE",
    "ExecuteTime": {
     "end_time": "2024-11-13T22:45:27.338523Z",
     "start_time": "2024-11-13T22:45:27.328909Z"
    }
   },
   "source": [
    "if not os.path.exists(os.path.join(paths['APIMODEL_PATH'], 'research', 'object_detection')):\n",
    "    !git clone https://github.com/tensorflow/models  {paths['APIMODEL_PATH']}"
   ],
   "outputs": [],
   "execution_count": 9
  },
  {
   "metadata": {
    "ExecuteTime": {
     "end_time": "2024-11-13T22:45:50.338891Z",
     "start_time": "2024-11-13T22:45:28.626004Z"
    }
   },
   "cell_type": "code",
   "source": [
    "# Compile protos.\n",
    "!cd Tensorflow/models/research && protoc object_detection/protos/*.proto --python_out=. && copy object_detection\\\\packages\\\\tf2\\\\setup.py . && python -m pip install ."
   ],
   "outputs": [
    {
     "name": "stdout",
     "output_type": "stream",
     "text": [
      "        1 file(s) copied.\n",
      "Processing c:\\users\\akash\\pycharmprojects\\drone\\model\\training\\tensorflow\\models\\research\n",
      "  Preparing metadata (setup.py): started\n",
      "  Preparing metadata (setup.py): finished with status 'done'\n",
      "Requirement already satisfied: avro-python3 in c:\\users\\akash\\pycharmprojects\\drone\\.venv\\lib\\site-packages (from object-detection==0.1) (1.10.2)\n",
      "Requirement already satisfied: apache-beam in c:\\users\\akash\\pycharmprojects\\drone\\.venv\\lib\\site-packages (from object-detection==0.1) (2.46.0)\n",
      "Requirement already satisfied: pillow in c:\\users\\akash\\pycharmprojects\\drone\\.venv\\lib\\site-packages (from object-detection==0.1) (11.0.0)\n",
      "Requirement already satisfied: lxml in c:\\users\\akash\\pycharmprojects\\drone\\.venv\\lib\\site-packages (from object-detection==0.1) (5.3.0)\n",
      "Requirement already satisfied: matplotlib in c:\\users\\akash\\pycharmprojects\\drone\\.venv\\lib\\site-packages (from object-detection==0.1) (3.9.2)\n",
      "Requirement already satisfied: Cython in c:\\users\\akash\\pycharmprojects\\drone\\.venv\\lib\\site-packages (from object-detection==0.1) (3.0.11)\n",
      "Requirement already satisfied: contextlib2 in c:\\users\\akash\\pycharmprojects\\drone\\.venv\\lib\\site-packages (from object-detection==0.1) (21.6.0)\n",
      "Requirement already satisfied: tf-slim in c:\\users\\akash\\pycharmprojects\\drone\\.venv\\lib\\site-packages (from object-detection==0.1) (1.1.0)\n",
      "Requirement already satisfied: six in c:\\users\\akash\\pycharmprojects\\drone\\.venv\\lib\\site-packages (from object-detection==0.1) (1.16.0)\n",
      "Requirement already satisfied: pycocotools in c:\\users\\akash\\pycharmprojects\\drone\\.venv\\lib\\site-packages (from object-detection==0.1) (2.0.8)\n",
      "Requirement already satisfied: lvis in c:\\users\\akash\\pycharmprojects\\drone\\.venv\\lib\\site-packages (from object-detection==0.1) (0.5.3)\n",
      "Requirement already satisfied: scipy in c:\\users\\akash\\pycharmprojects\\drone\\.venv\\lib\\site-packages (from object-detection==0.1) (1.13.1)\n",
      "Requirement already satisfied: pandas in c:\\users\\akash\\pycharmprojects\\drone\\.venv\\lib\\site-packages (from object-detection==0.1) (2.2.3)\n",
      "Requirement already satisfied: tf-models-official>=2.5.1 in c:\\users\\akash\\pycharmprojects\\drone\\.venv\\lib\\site-packages (from object-detection==0.1) (2.10.1)\n",
      "Requirement already satisfied: tensorflow_io in c:\\users\\akash\\pycharmprojects\\drone\\.venv\\lib\\site-packages (from object-detection==0.1) (0.31.0)\n",
      "Requirement already satisfied: keras in c:\\users\\akash\\pycharmprojects\\drone\\.venv\\lib\\site-packages (from object-detection==0.1) (2.10.0)\n",
      "Requirement already satisfied: pyparsing==2.4.7 in c:\\users\\akash\\pycharmprojects\\drone\\.venv\\lib\\site-packages (from object-detection==0.1) (2.4.7)\n",
      "Requirement already satisfied: sacrebleu<=2.2.0 in c:\\users\\akash\\pycharmprojects\\drone\\.venv\\lib\\site-packages (from object-detection==0.1) (2.2.0)\n",
      "Requirement already satisfied: portalocker in c:\\users\\akash\\pycharmprojects\\drone\\.venv\\lib\\site-packages (from sacrebleu<=2.2.0->object-detection==0.1) (2.10.1)\n",
      "Requirement already satisfied: regex in c:\\users\\akash\\pycharmprojects\\drone\\.venv\\lib\\site-packages (from sacrebleu<=2.2.0->object-detection==0.1) (2024.11.6)\n",
      "Requirement already satisfied: tabulate>=0.8.9 in c:\\users\\akash\\pycharmprojects\\drone\\.venv\\lib\\site-packages (from sacrebleu<=2.2.0->object-detection==0.1) (0.9.0)\n",
      "Requirement already satisfied: numpy>=1.17 in c:\\users\\akash\\pycharmprojects\\drone\\.venv\\lib\\site-packages (from sacrebleu<=2.2.0->object-detection==0.1) (1.24.4)\n",
      "Requirement already satisfied: colorama in c:\\users\\akash\\pycharmprojects\\drone\\.venv\\lib\\site-packages (from sacrebleu<=2.2.0->object-detection==0.1) (0.4.6)\n",
      "Requirement already satisfied: gin-config in c:\\users\\akash\\pycharmprojects\\drone\\.venv\\lib\\site-packages (from tf-models-official>=2.5.1->object-detection==0.1) (0.5.0)\n",
      "Requirement already satisfied: google-api-python-client>=1.6.7 in c:\\users\\akash\\pycharmprojects\\drone\\.venv\\lib\\site-packages (from tf-models-official>=2.5.1->object-detection==0.1) (2.151.0)\n",
      "Requirement already satisfied: immutabledict in c:\\users\\akash\\pycharmprojects\\drone\\.venv\\lib\\site-packages (from tf-models-official>=2.5.1->object-detection==0.1) (4.2.0)\n",
      "Requirement already satisfied: kaggle>=1.3.9 in c:\\users\\akash\\pycharmprojects\\drone\\.venv\\lib\\site-packages (from tf-models-official>=2.5.1->object-detection==0.1) (1.6.17)\n",
      "Requirement already satisfied: oauth2client in c:\\users\\akash\\pycharmprojects\\drone\\.venv\\lib\\site-packages (from tf-models-official>=2.5.1->object-detection==0.1) (4.1.3)\n",
      "Requirement already satisfied: opencv-python-headless in c:\\users\\akash\\pycharmprojects\\drone\\.venv\\lib\\site-packages (from tf-models-official>=2.5.1->object-detection==0.1) (4.10.0.84)\n",
      "Requirement already satisfied: psutil>=5.4.3 in c:\\users\\akash\\pycharmprojects\\drone\\.venv\\lib\\site-packages (from tf-models-official>=2.5.1->object-detection==0.1) (6.1.0)\n",
      "Requirement already satisfied: py-cpuinfo>=3.3.0 in c:\\users\\akash\\pycharmprojects\\drone\\.venv\\lib\\site-packages (from tf-models-official>=2.5.1->object-detection==0.1) (9.0.0)\n",
      "Requirement already satisfied: pyyaml<6.0,>=5.1 in c:\\users\\akash\\pycharmprojects\\drone\\.venv\\lib\\site-packages (from tf-models-official>=2.5.1->object-detection==0.1) (5.4.1)\n",
      "Requirement already satisfied: sentencepiece in c:\\users\\akash\\pycharmprojects\\drone\\.venv\\lib\\site-packages (from tf-models-official>=2.5.1->object-detection==0.1) (0.2.0)\n",
      "Requirement already satisfied: seqeval in c:\\users\\akash\\pycharmprojects\\drone\\.venv\\lib\\site-packages (from tf-models-official>=2.5.1->object-detection==0.1) (1.2.2)\n",
      "Requirement already satisfied: tensorflow-addons in c:\\users\\akash\\pycharmprojects\\drone\\.venv\\lib\\site-packages (from tf-models-official>=2.5.1->object-detection==0.1) (0.22.0)\n",
      "Requirement already satisfied: tensorflow-datasets in c:\\users\\akash\\pycharmprojects\\drone\\.venv\\lib\\site-packages (from tf-models-official>=2.5.1->object-detection==0.1) (4.9.0)\n",
      "Requirement already satisfied: tensorflow-hub>=0.6.0 in c:\\users\\akash\\pycharmprojects\\drone\\.venv\\lib\\site-packages (from tf-models-official>=2.5.1->object-detection==0.1) (0.16.1)\n",
      "Requirement already satisfied: tensorflow-model-optimization>=0.4.1 in c:\\users\\akash\\pycharmprojects\\drone\\.venv\\lib\\site-packages (from tf-models-official>=2.5.1->object-detection==0.1) (0.8.0)\n",
      "Requirement already satisfied: tensorflow-text~=2.10.0 in c:\\users\\akash\\pycharmprojects\\drone\\.venv\\lib\\site-packages (from tf-models-official>=2.5.1->object-detection==0.1) (2.10.0)\n",
      "Requirement already satisfied: tensorflow~=2.10.0 in c:\\users\\akash\\pycharmprojects\\drone\\.venv\\lib\\site-packages (from tf-models-official>=2.5.1->object-detection==0.1) (2.10.0)\n",
      "Requirement already satisfied: python-dateutil>=2.8.2 in c:\\users\\akash\\pycharmprojects\\drone\\.venv\\lib\\site-packages (from pandas->object-detection==0.1) (2.9.0.post0)\n",
      "Requirement already satisfied: pytz>=2020.1 in c:\\users\\akash\\pycharmprojects\\drone\\.venv\\lib\\site-packages (from pandas->object-detection==0.1) (2024.2)\n",
      "Requirement already satisfied: tzdata>=2022.7 in c:\\users\\akash\\pycharmprojects\\drone\\.venv\\lib\\site-packages (from pandas->object-detection==0.1) (2024.2)\n",
      "Requirement already satisfied: absl-py>=0.2.2 in c:\\users\\akash\\pycharmprojects\\drone\\.venv\\lib\\site-packages (from tf-slim->object-detection==0.1) (1.4.0)\n",
      "Requirement already satisfied: protobuf<4,>3.12.2 in c:\\users\\akash\\pycharmprojects\\drone\\.venv\\lib\\site-packages (from apache-beam->object-detection==0.1) (3.19.6)\n",
      "Requirement already satisfied: crcmod<2.0,>=1.7 in c:\\users\\akash\\pycharmprojects\\drone\\.venv\\lib\\site-packages (from apache-beam->object-detection==0.1) (1.7)\n",
      "Requirement already satisfied: orjson<4.0 in c:\\users\\akash\\pycharmprojects\\drone\\.venv\\lib\\site-packages (from apache-beam->object-detection==0.1) (3.10.11)\n",
      "Requirement already satisfied: dill<0.3.2,>=0.3.1.1 in c:\\users\\akash\\pycharmprojects\\drone\\.venv\\lib\\site-packages (from apache-beam->object-detection==0.1) (0.3.1.1)\n",
      "Requirement already satisfied: cloudpickle~=2.2.1 in c:\\users\\akash\\pycharmprojects\\drone\\.venv\\lib\\site-packages (from apache-beam->object-detection==0.1) (2.2.1)\n",
      "Requirement already satisfied: fastavro<2,>=0.23.6 in c:\\users\\akash\\pycharmprojects\\drone\\.venv\\lib\\site-packages (from apache-beam->object-detection==0.1) (1.9.7)\n",
      "Requirement already satisfied: fasteners<1.0,>=0.3 in c:\\users\\akash\\pycharmprojects\\drone\\.venv\\lib\\site-packages (from apache-beam->object-detection==0.1) (0.19)\n",
      "Requirement already satisfied: grpcio!=1.48.0,<2,>=1.33.1 in c:\\users\\akash\\pycharmprojects\\drone\\.venv\\lib\\site-packages (from apache-beam->object-detection==0.1) (1.67.1)\n",
      "Requirement already satisfied: hdfs<3.0.0,>=2.1.0 in c:\\users\\akash\\pycharmprojects\\drone\\.venv\\lib\\site-packages (from apache-beam->object-detection==0.1) (2.7.3)\n",
      "Requirement already satisfied: httplib2<0.22.0,>=0.8 in c:\\users\\akash\\pycharmprojects\\drone\\.venv\\lib\\site-packages (from apache-beam->object-detection==0.1) (0.21.0)\n",
      "Requirement already satisfied: objsize<0.7.0,>=0.6.1 in c:\\users\\akash\\pycharmprojects\\drone\\.venv\\lib\\site-packages (from apache-beam->object-detection==0.1) (0.6.1)\n",
      "Requirement already satisfied: pymongo<4.0.0,>=3.8.0 in c:\\users\\akash\\pycharmprojects\\drone\\.venv\\lib\\site-packages (from apache-beam->object-detection==0.1) (3.13.0)\n",
      "Requirement already satisfied: proto-plus<2,>=1.7.1 in c:\\users\\akash\\pycharmprojects\\drone\\.venv\\lib\\site-packages (from apache-beam->object-detection==0.1) (1.25.0)\n",
      "Requirement already satisfied: pydot<2,>=1.2.0 in c:\\users\\akash\\pycharmprojects\\drone\\.venv\\lib\\site-packages (from apache-beam->object-detection==0.1) (1.4.2)\n",
      "Requirement already satisfied: requests<3.0.0,>=2.24.0 in c:\\users\\akash\\pycharmprojects\\drone\\.venv\\lib\\site-packages (from apache-beam->object-detection==0.1) (2.32.3)\n",
      "Requirement already satisfied: typing-extensions>=3.7.0 in c:\\users\\akash\\pycharmprojects\\drone\\.venv\\lib\\site-packages (from apache-beam->object-detection==0.1) (4.12.2)\n",
      "Requirement already satisfied: zstandard<1,>=0.18.0 in c:\\users\\akash\\pycharmprojects\\drone\\.venv\\lib\\site-packages (from apache-beam->object-detection==0.1) (0.23.0)\n",
      "Requirement already satisfied: pyarrow<10.0.0,>=3.0.0 in c:\\users\\akash\\pycharmprojects\\drone\\.venv\\lib\\site-packages (from apache-beam->object-detection==0.1) (9.0.0)\n",
      "Requirement already satisfied: cycler>=0.10.0 in c:\\users\\akash\\pycharmprojects\\drone\\.venv\\lib\\site-packages (from lvis->object-detection==0.1) (0.12.1)\n",
      "Requirement already satisfied: kiwisolver>=1.1.0 in c:\\users\\akash\\pycharmprojects\\drone\\.venv\\lib\\site-packages (from lvis->object-detection==0.1) (1.4.7)\n",
      "Requirement already satisfied: opencv-python>=4.1.0.25 in c:\\users\\akash\\pycharmprojects\\drone\\.venv\\lib\\site-packages (from lvis->object-detection==0.1) (4.10.0.84)\n",
      "Requirement already satisfied: contourpy>=1.0.1 in c:\\users\\akash\\pycharmprojects\\drone\\.venv\\lib\\site-packages (from matplotlib->object-detection==0.1) (1.3.0)\n",
      "Requirement already satisfied: fonttools>=4.22.0 in c:\\users\\akash\\pycharmprojects\\drone\\.venv\\lib\\site-packages (from matplotlib->object-detection==0.1) (4.54.1)\n",
      "Requirement already satisfied: packaging>=20.0 in c:\\users\\akash\\pycharmprojects\\drone\\.venv\\lib\\site-packages (from matplotlib->object-detection==0.1) (24.2)\n",
      "Requirement already satisfied: importlib-resources>=3.2.0 in c:\\users\\akash\\pycharmprojects\\drone\\.venv\\lib\\site-packages (from matplotlib->object-detection==0.1) (6.4.5)\n",
      "Requirement already satisfied: tensorflow-io-gcs-filesystem==0.31.0 in c:\\users\\akash\\pycharmprojects\\drone\\.venv\\lib\\site-packages (from tensorflow_io->object-detection==0.1) (0.31.0)\n",
      "Requirement already satisfied: google-auth!=2.24.0,!=2.25.0,<3.0.0.dev0,>=1.32.0 in c:\\users\\akash\\pycharmprojects\\drone\\.venv\\lib\\site-packages (from google-api-python-client>=1.6.7->tf-models-official>=2.5.1->object-detection==0.1) (2.36.0)\n",
      "Requirement already satisfied: google-auth-httplib2<1.0.0,>=0.2.0 in c:\\users\\akash\\pycharmprojects\\drone\\.venv\\lib\\site-packages (from google-api-python-client>=1.6.7->tf-models-official>=2.5.1->object-detection==0.1) (0.2.0)\n",
      "Requirement already satisfied: google-api-core!=2.0.*,!=2.1.*,!=2.2.*,!=2.3.0,<3.0.0.dev0,>=1.31.5 in c:\\users\\akash\\pycharmprojects\\drone\\.venv\\lib\\site-packages (from google-api-python-client>=1.6.7->tf-models-official>=2.5.1->object-detection==0.1) (2.22.0)\n",
      "Requirement already satisfied: uritemplate<5,>=3.0.1 in c:\\users\\akash\\pycharmprojects\\drone\\.venv\\lib\\site-packages (from google-api-python-client>=1.6.7->tf-models-official>=2.5.1->object-detection==0.1) (4.1.1)\n",
      "Requirement already satisfied: docopt in c:\\users\\akash\\pycharmprojects\\drone\\.venv\\lib\\site-packages (from hdfs<3.0.0,>=2.1.0->apache-beam->object-detection==0.1) (0.6.2)\n",
      "Requirement already satisfied: zipp>=3.1.0 in c:\\users\\akash\\pycharmprojects\\drone\\.venv\\lib\\site-packages (from importlib-resources>=3.2.0->matplotlib->object-detection==0.1) (3.21.0)\n",
      "Requirement already satisfied: certifi>=2023.7.22 in c:\\users\\akash\\pycharmprojects\\drone\\.venv\\lib\\site-packages (from kaggle>=1.3.9->tf-models-official>=2.5.1->object-detection==0.1) (2024.8.30)\n",
      "Requirement already satisfied: tqdm in c:\\users\\akash\\pycharmprojects\\drone\\.venv\\lib\\site-packages (from kaggle>=1.3.9->tf-models-official>=2.5.1->object-detection==0.1) (4.67.0)\n",
      "Requirement already satisfied: python-slugify in c:\\users\\akash\\pycharmprojects\\drone\\.venv\\lib\\site-packages (from kaggle>=1.3.9->tf-models-official>=2.5.1->object-detection==0.1) (8.0.4)\n",
      "Requirement already satisfied: urllib3 in c:\\users\\akash\\pycharmprojects\\drone\\.venv\\lib\\site-packages (from kaggle>=1.3.9->tf-models-official>=2.5.1->object-detection==0.1) (2.2.3)\n",
      "Requirement already satisfied: bleach in c:\\users\\akash\\pycharmprojects\\drone\\.venv\\lib\\site-packages (from kaggle>=1.3.9->tf-models-official>=2.5.1->object-detection==0.1) (6.2.0)\n",
      "Requirement already satisfied: charset-normalizer<4,>=2 in c:\\users\\akash\\pycharmprojects\\drone\\.venv\\lib\\site-packages (from requests<3.0.0,>=2.24.0->apache-beam->object-detection==0.1) (3.4.0)\n",
      "Requirement already satisfied: idna<4,>=2.5 in c:\\users\\akash\\pycharmprojects\\drone\\.venv\\lib\\site-packages (from requests<3.0.0,>=2.24.0->apache-beam->object-detection==0.1) (3.10)\n",
      "Requirement already satisfied: astunparse>=1.6.0 in c:\\users\\akash\\pycharmprojects\\drone\\.venv\\lib\\site-packages (from tensorflow~=2.10.0->tf-models-official>=2.5.1->object-detection==0.1) (1.6.3)\n",
      "Requirement already satisfied: flatbuffers>=2.0 in c:\\users\\akash\\pycharmprojects\\drone\\.venv\\lib\\site-packages (from tensorflow~=2.10.0->tf-models-official>=2.5.1->object-detection==0.1) (24.3.25)\n",
      "Requirement already satisfied: gast<=0.4.0,>=0.2.1 in c:\\users\\akash\\pycharmprojects\\drone\\.venv\\lib\\site-packages (from tensorflow~=2.10.0->tf-models-official>=2.5.1->object-detection==0.1) (0.4.0)\n",
      "Requirement already satisfied: google-pasta>=0.1.1 in c:\\users\\akash\\pycharmprojects\\drone\\.venv\\lib\\site-packages (from tensorflow~=2.10.0->tf-models-official>=2.5.1->object-detection==0.1) (0.2.0)\n",
      "Requirement already satisfied: h5py>=2.9.0 in c:\\users\\akash\\pycharmprojects\\drone\\.venv\\lib\\site-packages (from tensorflow~=2.10.0->tf-models-official>=2.5.1->object-detection==0.1) (3.12.1)\n",
      "Requirement already satisfied: keras-preprocessing>=1.1.1 in c:\\users\\akash\\pycharmprojects\\drone\\.venv\\lib\\site-packages (from tensorflow~=2.10.0->tf-models-official>=2.5.1->object-detection==0.1) (1.1.2)\n",
      "Requirement already satisfied: libclang>=13.0.0 in c:\\users\\akash\\pycharmprojects\\drone\\.venv\\lib\\site-packages (from tensorflow~=2.10.0->tf-models-official>=2.5.1->object-detection==0.1) (18.1.1)\n",
      "Requirement already satisfied: opt-einsum>=2.3.2 in c:\\users\\akash\\pycharmprojects\\drone\\.venv\\lib\\site-packages (from tensorflow~=2.10.0->tf-models-official>=2.5.1->object-detection==0.1) (3.4.0)\n",
      "Requirement already satisfied: setuptools in c:\\users\\akash\\pycharmprojects\\drone\\.venv\\lib\\site-packages (from tensorflow~=2.10.0->tf-models-official>=2.5.1->object-detection==0.1) (68.2.0)\n",
      "Requirement already satisfied: termcolor>=1.1.0 in c:\\users\\akash\\pycharmprojects\\drone\\.venv\\lib\\site-packages (from tensorflow~=2.10.0->tf-models-official>=2.5.1->object-detection==0.1) (2.5.0)\n",
      "Requirement already satisfied: wrapt>=1.11.0 in c:\\users\\akash\\pycharmprojects\\drone\\.venv\\lib\\site-packages (from tensorflow~=2.10.0->tf-models-official>=2.5.1->object-detection==0.1) (1.16.0)\n",
      "Requirement already satisfied: tensorboard<2.11,>=2.10 in c:\\users\\akash\\pycharmprojects\\drone\\.venv\\lib\\site-packages (from tensorflow~=2.10.0->tf-models-official>=2.5.1->object-detection==0.1) (2.10.1)\n",
      "Requirement already satisfied: tensorflow-estimator<2.11,>=2.10.0 in c:\\users\\akash\\pycharmprojects\\drone\\.venv\\lib\\site-packages (from tensorflow~=2.10.0->tf-models-official>=2.5.1->object-detection==0.1) (2.10.0)\n",
      "Requirement already satisfied: tf-keras>=2.14.1 in c:\\users\\akash\\pycharmprojects\\drone\\.venv\\lib\\site-packages (from tensorflow-hub>=0.6.0->tf-models-official>=2.5.1->object-detection==0.1) (2.15.0)\n",
      "Requirement already satisfied: dm-tree~=0.1.1 in c:\\users\\akash\\pycharmprojects\\drone\\.venv\\lib\\site-packages (from tensorflow-model-optimization>=0.4.1->tf-models-official>=2.5.1->object-detection==0.1) (0.1.8)\n",
      "Requirement already satisfied: pyasn1>=0.1.7 in c:\\users\\akash\\pycharmprojects\\drone\\.venv\\lib\\site-packages (from oauth2client->tf-models-official>=2.5.1->object-detection==0.1) (0.6.1)\n",
      "Requirement already satisfied: pyasn1-modules>=0.0.5 in c:\\users\\akash\\pycharmprojects\\drone\\.venv\\lib\\site-packages (from oauth2client->tf-models-official>=2.5.1->object-detection==0.1) (0.4.1)\n",
      "Requirement already satisfied: rsa>=3.1.4 in c:\\users\\akash\\pycharmprojects\\drone\\.venv\\lib\\site-packages (from oauth2client->tf-models-official>=2.5.1->object-detection==0.1) (4.9)\n",
      "Requirement already satisfied: pywin32>=226 in c:\\users\\akash\\pycharmprojects\\drone\\.venv\\lib\\site-packages (from portalocker->sacrebleu<=2.2.0->object-detection==0.1) (308)\n",
      "Requirement already satisfied: scikit-learn>=0.21.3 in c:\\users\\akash\\pycharmprojects\\drone\\.venv\\lib\\site-packages (from seqeval->tf-models-official>=2.5.1->object-detection==0.1) (1.5.2)\n",
      "Requirement already satisfied: typeguard<3.0.0,>=2.7 in c:\\users\\akash\\pycharmprojects\\drone\\.venv\\lib\\site-packages (from tensorflow-addons->tf-models-official>=2.5.1->object-detection==0.1) (2.13.3)\n",
      "Requirement already satisfied: array-record in c:\\users\\akash\\pycharmprojects\\drone\\.venv\\lib\\site-packages (from tensorflow-datasets->tf-models-official>=2.5.1->object-detection==0.1) (0.4.1)\n",
      "Requirement already satisfied: click in c:\\users\\akash\\pycharmprojects\\drone\\.venv\\lib\\site-packages (from tensorflow-datasets->tf-models-official>=2.5.1->object-detection==0.1) (8.1.7)\n",
      "Requirement already satisfied: etils>=0.9.0 in c:\\users\\akash\\pycharmprojects\\drone\\.venv\\lib\\site-packages (from etils[enp,epath]>=0.9.0->tensorflow-datasets->tf-models-official>=2.5.1->object-detection==0.1) (1.5.2)\n",
      "Requirement already satisfied: promise in c:\\users\\akash\\pycharmprojects\\drone\\.venv\\lib\\site-packages (from tensorflow-datasets->tf-models-official>=2.5.1->object-detection==0.1) (2.3)\n",
      "Requirement already satisfied: tensorflow-metadata in c:\\users\\akash\\pycharmprojects\\drone\\.venv\\lib\\site-packages (from tensorflow-datasets->tf-models-official>=2.5.1->object-detection==0.1) (1.13.0)\n",
      "Requirement already satisfied: toml in c:\\users\\akash\\pycharmprojects\\drone\\.venv\\lib\\site-packages (from tensorflow-datasets->tf-models-official>=2.5.1->object-detection==0.1) (0.10.2)\n",
      "Requirement already satisfied: wheel<1.0,>=0.23.0 in c:\\users\\akash\\pycharmprojects\\drone\\.venv\\lib\\site-packages (from astunparse>=1.6.0->tensorflow~=2.10.0->tf-models-official>=2.5.1->object-detection==0.1) (0.41.2)\n",
      "Requirement already satisfied: fsspec in c:\\users\\akash\\pycharmprojects\\drone\\.venv\\lib\\site-packages (from etils[enp,epath]>=0.9.0->tensorflow-datasets->tf-models-official>=2.5.1->object-detection==0.1) (2024.10.0)\n",
      "Requirement already satisfied: googleapis-common-protos<2.0.dev0,>=1.56.2 in c:\\users\\akash\\pycharmprojects\\drone\\.venv\\lib\\site-packages (from google-api-core!=2.0.*,!=2.1.*,!=2.2.*,!=2.3.0,<3.0.0.dev0,>=1.31.5->google-api-python-client>=1.6.7->tf-models-official>=2.5.1->object-detection==0.1) (1.63.1)\n",
      "Requirement already satisfied: cachetools<6.0,>=2.0.0 in c:\\users\\akash\\pycharmprojects\\drone\\.venv\\lib\\site-packages (from google-auth!=2.24.0,!=2.25.0,<3.0.0.dev0,>=1.32.0->google-api-python-client>=1.6.7->tf-models-official>=2.5.1->object-detection==0.1) (5.5.0)\n",
      "Requirement already satisfied: joblib>=1.2.0 in c:\\users\\akash\\pycharmprojects\\drone\\.venv\\lib\\site-packages (from scikit-learn>=0.21.3->seqeval->tf-models-official>=2.5.1->object-detection==0.1) (1.4.2)\n",
      "Requirement already satisfied: threadpoolctl>=3.1.0 in c:\\users\\akash\\pycharmprojects\\drone\\.venv\\lib\\site-packages (from scikit-learn>=0.21.3->seqeval->tf-models-official>=2.5.1->object-detection==0.1) (3.5.0)\n",
      "Requirement already satisfied: google-auth-oauthlib<0.5,>=0.4.1 in c:\\users\\akash\\pycharmprojects\\drone\\.venv\\lib\\site-packages (from tensorboard<2.11,>=2.10->tensorflow~=2.10.0->tf-models-official>=2.5.1->object-detection==0.1) (0.4.6)\n",
      "Requirement already satisfied: markdown>=2.6.8 in c:\\users\\akash\\pycharmprojects\\drone\\.venv\\lib\\site-packages (from tensorboard<2.11,>=2.10->tensorflow~=2.10.0->tf-models-official>=2.5.1->object-detection==0.1) (3.7)\n",
      "Requirement already satisfied: tensorboard-data-server<0.7.0,>=0.6.0 in c:\\users\\akash\\pycharmprojects\\drone\\.venv\\lib\\site-packages (from tensorboard<2.11,>=2.10->tensorflow~=2.10.0->tf-models-official>=2.5.1->object-detection==0.1) (0.6.1)\n",
      "Requirement already satisfied: tensorboard-plugin-wit>=1.6.0 in c:\\users\\akash\\pycharmprojects\\drone\\.venv\\lib\\site-packages (from tensorboard<2.11,>=2.10->tensorflow~=2.10.0->tf-models-official>=2.5.1->object-detection==0.1) (1.8.1)\n",
      "Requirement already satisfied: werkzeug>=1.0.1 in c:\\users\\akash\\pycharmprojects\\drone\\.venv\\lib\\site-packages (from tensorboard<2.11,>=2.10->tensorflow~=2.10.0->tf-models-official>=2.5.1->object-detection==0.1) (3.1.3)\n",
      "Requirement already satisfied: webencodings in c:\\users\\akash\\pycharmprojects\\drone\\.venv\\lib\\site-packages (from bleach->kaggle>=1.3.9->tf-models-official>=2.5.1->object-detection==0.1) (0.5.1)\n",
      "Requirement already satisfied: text-unidecode>=1.3 in c:\\users\\akash\\pycharmprojects\\drone\\.venv\\lib\\site-packages (from python-slugify->kaggle>=1.3.9->tf-models-official>=2.5.1->object-detection==0.1) (1.3)\n",
      "Requirement already satisfied: requests-oauthlib>=0.7.0 in c:\\users\\akash\\pycharmprojects\\drone\\.venv\\lib\\site-packages (from google-auth-oauthlib<0.5,>=0.4.1->tensorboard<2.11,>=2.10->tensorflow~=2.10.0->tf-models-official>=2.5.1->object-detection==0.1) (2.0.0)\n",
      "Requirement already satisfied: importlib-metadata>=4.4 in c:\\users\\akash\\pycharmprojects\\drone\\.venv\\lib\\site-packages (from markdown>=2.6.8->tensorboard<2.11,>=2.10->tensorflow~=2.10.0->tf-models-official>=2.5.1->object-detection==0.1) (8.5.0)\n",
      "Requirement already satisfied: MarkupSafe>=2.1.1 in c:\\users\\akash\\pycharmprojects\\drone\\.venv\\lib\\site-packages (from werkzeug>=1.0.1->tensorboard<2.11,>=2.10->tensorflow~=2.10.0->tf-models-official>=2.5.1->object-detection==0.1) (3.0.2)\n",
      "Requirement already satisfied: oauthlib>=3.0.0 in c:\\users\\akash\\pycharmprojects\\drone\\.venv\\lib\\site-packages (from requests-oauthlib>=0.7.0->google-auth-oauthlib<0.5,>=0.4.1->tensorboard<2.11,>=2.10->tensorflow~=2.10.0->tf-models-official>=2.5.1->object-detection==0.1) (3.2.2)\n",
      "Building wheels for collected packages: object-detection\n",
      "  Building wheel for object-detection (setup.py): started\n",
      "  Building wheel for object-detection (setup.py): finished with status 'done'\n",
      "  Created wheel for object-detection: filename=object_detection-0.1-py3-none-any.whl size=1671347 sha256=3715c673e2f40650011277ad37ac07fd109dff84a05b962c655401e8e919922d\n",
      "  Stored in directory: C:\\Users\\akash\\AppData\\Local\\Temp\\pip-ephem-wheel-cache-7stbwoyz\\wheels\\93\\4a\\15\\dbebf3e7e84050ef93dd5bc047ee48afa25ddf1ecd32716dfe\n",
      "Successfully built object-detection\n",
      "Installing collected packages: object-detection\n",
      "  Attempting uninstall: object-detection\n",
      "    Found existing installation: object-detection 0.1\n",
      "    Uninstalling object-detection-0.1:\n",
      "      Successfully uninstalled object-detection-0.1\n",
      "Successfully installed object-detection-0.1\n"
     ]
    }
   ],
   "execution_count": 10
  },
  {
   "metadata": {
    "scrolled": true,
    "ExecuteTime": {
     "end_time": "2024-11-13T22:46:19.660852Z",
     "start_time": "2024-11-13T22:45:50.348727Z"
    }
   },
   "cell_type": "code",
   "source": [
    "VERIFICATION_SCRIPT = os.path.join(paths['APIMODEL_PATH'], 'research', 'object_detection', 'builders', 'model_builder_tf2_test.py')\n",
    "# Verify Installation\n",
    "!python {VERIFICATION_SCRIPT}"
   ],
   "outputs": [
    {
     "name": "stderr",
     "output_type": "stream",
     "text": [
      "Running tests under Python 3.9.0: C:\\Users\\akash\\PycharmProjects\\Drone\\.venv\\Scripts\\python.exe\n",
      "[ RUN      ] ModelBuilderTF2Test.test_create_center_net_deepmac\n",
      "2024-11-13 14:46:02.748599: I tensorflow/core/platform/cpu_feature_guard.cc:193] This TensorFlow binary is optimized with oneAPI Deep Neural Network Library (oneDNN) to use the following CPU instructions in performance-critical operations:  AVX AVX2\n",
      "To enable them in other operations, rebuild TensorFlow with the appropriate compiler flags.\n",
      "2024-11-13 14:46:02.925842: I tensorflow/core/common_runtime/gpu/gpu_device.cc:1616] Created device /job:localhost/replica:0/task:0/device:GPU:0 with 5520 MB memory:  -> device: 0, name: NVIDIA GeForce RTX 4070 Laptop GPU, pci bus id: 0000:01:00.0, compute capability: 8.9\n",
      "C:\\Users\\akash\\PycharmProjects\\Drone\\.venv\\lib\\site-packages\\object_detection\\builders\\model_builder.py:1112: DeprecationWarning: The 'warn' function is deprecated, use 'warning' instead\n",
      "  logging.warn(('Building experimental DeepMAC meta-arch.'\n",
      "W1113 14:46:03.271444  8676 model_builder.py:1112] Building experimental DeepMAC meta-arch. Some features may be omitted.\n",
      "INFO:tensorflow:time(__main__.ModelBuilderTF2Test.test_create_center_net_deepmac): 0.64s\n",
      "I1113 14:46:03.389099  8676 test_util.py:2460] time(__main__.ModelBuilderTF2Test.test_create_center_net_deepmac): 0.64s\n",
      "[       OK ] ModelBuilderTF2Test.test_create_center_net_deepmac\n",
      "[ RUN      ] ModelBuilderTF2Test.test_create_center_net_model0 (customize_head_params=True)\n",
      "INFO:tensorflow:time(__main__.ModelBuilderTF2Test.test_create_center_net_model0 (customize_head_params=True)): 0.69s\n",
      "I1113 14:46:04.078866  8676 test_util.py:2460] time(__main__.ModelBuilderTF2Test.test_create_center_net_model0 (customize_head_params=True)): 0.69s\n",
      "[       OK ] ModelBuilderTF2Test.test_create_center_net_model0 (customize_head_params=True)\n",
      "[ RUN      ] ModelBuilderTF2Test.test_create_center_net_model1 (customize_head_params=False)\n",
      "INFO:tensorflow:time(__main__.ModelBuilderTF2Test.test_create_center_net_model1 (customize_head_params=False)): 0.18s\n",
      "I1113 14:46:04.262246  8676 test_util.py:2460] time(__main__.ModelBuilderTF2Test.test_create_center_net_model1 (customize_head_params=False)): 0.18s\n",
      "[       OK ] ModelBuilderTF2Test.test_create_center_net_model1 (customize_head_params=False)\n",
      "[ RUN      ] ModelBuilderTF2Test.test_create_center_net_model_from_keypoints\n",
      "INFO:tensorflow:time(__main__.ModelBuilderTF2Test.test_create_center_net_model_from_keypoints): 0.11s\n",
      "I1113 14:46:04.373680  8676 test_util.py:2460] time(__main__.ModelBuilderTF2Test.test_create_center_net_model_from_keypoints): 0.11s\n",
      "[       OK ] ModelBuilderTF2Test.test_create_center_net_model_from_keypoints\n",
      "[ RUN      ] ModelBuilderTF2Test.test_create_center_net_model_mobilenet\n",
      "INFO:tensorflow:time(__main__.ModelBuilderTF2Test.test_create_center_net_model_mobilenet): 1.22s\n",
      "I1113 14:46:05.596812  8676 test_util.py:2460] time(__main__.ModelBuilderTF2Test.test_create_center_net_model_mobilenet): 1.22s\n",
      "[       OK ] ModelBuilderTF2Test.test_create_center_net_model_mobilenet\n",
      "[ RUN      ] ModelBuilderTF2Test.test_create_experimental_model\n",
      "INFO:tensorflow:time(__main__.ModelBuilderTF2Test.test_create_experimental_model): 0.0s\n",
      "I1113 14:46:05.601966  8676 test_util.py:2460] time(__main__.ModelBuilderTF2Test.test_create_experimental_model): 0.0s\n",
      "[       OK ] ModelBuilderTF2Test.test_create_experimental_model\n",
      "[ RUN      ] ModelBuilderTF2Test.test_create_faster_rcnn_from_config_with_crop_feature0 (True)\n",
      "INFO:tensorflow:time(__main__.ModelBuilderTF2Test.test_create_faster_rcnn_from_config_with_crop_feature0 (True)): 0.02s\n",
      "I1113 14:46:05.619246  8676 test_util.py:2460] time(__main__.ModelBuilderTF2Test.test_create_faster_rcnn_from_config_with_crop_feature0 (True)): 0.02s\n",
      "[       OK ] ModelBuilderTF2Test.test_create_faster_rcnn_from_config_with_crop_feature0 (True)\n",
      "[ RUN      ] ModelBuilderTF2Test.test_create_faster_rcnn_from_config_with_crop_feature1 (False)\n",
      "INFO:tensorflow:time(__main__.ModelBuilderTF2Test.test_create_faster_rcnn_from_config_with_crop_feature1 (False)): 0.01s\n",
      "I1113 14:46:05.628370  8676 test_util.py:2460] time(__main__.ModelBuilderTF2Test.test_create_faster_rcnn_from_config_with_crop_feature1 (False)): 0.01s\n",
      "[       OK ] ModelBuilderTF2Test.test_create_faster_rcnn_from_config_with_crop_feature1 (False)\n",
      "[ RUN      ] ModelBuilderTF2Test.test_create_faster_rcnn_model_from_config_with_example_miner\n",
      "INFO:tensorflow:time(__main__.ModelBuilderTF2Test.test_create_faster_rcnn_model_from_config_with_example_miner): 0.01s\n",
      "I1113 14:46:05.639756  8676 test_util.py:2460] time(__main__.ModelBuilderTF2Test.test_create_faster_rcnn_model_from_config_with_example_miner): 0.01s\n",
      "[       OK ] ModelBuilderTF2Test.test_create_faster_rcnn_model_from_config_with_example_miner\n",
      "[ RUN      ] ModelBuilderTF2Test.test_create_faster_rcnn_models_from_config_faster_rcnn_with_matmul\n",
      "INFO:tensorflow:time(__main__.ModelBuilderTF2Test.test_create_faster_rcnn_models_from_config_faster_rcnn_with_matmul): 0.05s\n",
      "I1113 14:46:05.695887  8676 test_util.py:2460] time(__main__.ModelBuilderTF2Test.test_create_faster_rcnn_models_from_config_faster_rcnn_with_matmul): 0.05s\n",
      "[       OK ] ModelBuilderTF2Test.test_create_faster_rcnn_models_from_config_faster_rcnn_with_matmul\n",
      "[ RUN      ] ModelBuilderTF2Test.test_create_faster_rcnn_models_from_config_faster_rcnn_without_matmul\n",
      "INFO:tensorflow:time(__main__.ModelBuilderTF2Test.test_create_faster_rcnn_models_from_config_faster_rcnn_without_matmul): 0.15s\n",
      "I1113 14:46:05.846138  8676 test_util.py:2460] time(__main__.ModelBuilderTF2Test.test_create_faster_rcnn_models_from_config_faster_rcnn_without_matmul): 0.15s\n",
      "[       OK ] ModelBuilderTF2Test.test_create_faster_rcnn_models_from_config_faster_rcnn_without_matmul\n",
      "[ RUN      ] ModelBuilderTF2Test.test_create_faster_rcnn_models_from_config_mask_rcnn_with_matmul\n",
      "INFO:tensorflow:time(__main__.ModelBuilderTF2Test.test_create_faster_rcnn_models_from_config_mask_rcnn_with_matmul): 0.05s\n",
      "I1113 14:46:05.895442  8676 test_util.py:2460] time(__main__.ModelBuilderTF2Test.test_create_faster_rcnn_models_from_config_mask_rcnn_with_matmul): 0.05s\n",
      "[       OK ] ModelBuilderTF2Test.test_create_faster_rcnn_models_from_config_mask_rcnn_with_matmul\n",
      "[ RUN      ] ModelBuilderTF2Test.test_create_faster_rcnn_models_from_config_mask_rcnn_without_matmul\n",
      "INFO:tensorflow:time(__main__.ModelBuilderTF2Test.test_create_faster_rcnn_models_from_config_mask_rcnn_without_matmul): 0.05s\n",
      "I1113 14:46:05.949415  8676 test_util.py:2460] time(__main__.ModelBuilderTF2Test.test_create_faster_rcnn_models_from_config_mask_rcnn_without_matmul): 0.05s\n",
      "[       OK ] ModelBuilderTF2Test.test_create_faster_rcnn_models_from_config_mask_rcnn_without_matmul\n",
      "[ RUN      ] ModelBuilderTF2Test.test_create_rfcn_model_from_config\n",
      "INFO:tensorflow:time(__main__.ModelBuilderTF2Test.test_create_rfcn_model_from_config): 0.05s\n",
      "I1113 14:46:06.002848  8676 test_util.py:2460] time(__main__.ModelBuilderTF2Test.test_create_rfcn_model_from_config): 0.05s\n",
      "[       OK ] ModelBuilderTF2Test.test_create_rfcn_model_from_config\n",
      "[ RUN      ] ModelBuilderTF2Test.test_create_ssd_fpn_model_from_config\n",
      "INFO:tensorflow:time(__main__.ModelBuilderTF2Test.test_create_ssd_fpn_model_from_config): 0.01s\n",
      "I1113 14:46:06.018197  8676 test_util.py:2460] time(__main__.ModelBuilderTF2Test.test_create_ssd_fpn_model_from_config): 0.01s\n",
      "[       OK ] ModelBuilderTF2Test.test_create_ssd_fpn_model_from_config\n",
      "[ RUN      ] ModelBuilderTF2Test.test_create_ssd_models_from_config\n",
      "I1113 14:46:06.109127  8676 ssd_efficientnet_bifpn_feature_extractor.py:161] EfficientDet EfficientNet backbone version: efficientnet-b0\n",
      "I1113 14:46:06.109127  8676 ssd_efficientnet_bifpn_feature_extractor.py:163] EfficientDet BiFPN num filters: 64\n",
      "I1113 14:46:06.109127  8676 ssd_efficientnet_bifpn_feature_extractor.py:164] EfficientDet BiFPN num iterations: 3\n",
      "I1113 14:46:06.110589  8676 efficientnet_model.py:143] round_filter input=32 output=32\n",
      "I1113 14:46:06.127413  8676 efficientnet_model.py:143] round_filter input=32 output=32\n",
      "I1113 14:46:06.127413  8676 efficientnet_model.py:143] round_filter input=16 output=16\n",
      "I1113 14:46:06.171463  8676 efficientnet_model.py:143] round_filter input=16 output=16\n",
      "I1113 14:46:06.171463  8676 efficientnet_model.py:143] round_filter input=24 output=24\n",
      "I1113 14:46:06.269812  8676 efficientnet_model.py:143] round_filter input=24 output=24\n",
      "I1113 14:46:06.269812  8676 efficientnet_model.py:143] round_filter input=40 output=40\n",
      "I1113 14:46:06.364159  8676 efficientnet_model.py:143] round_filter input=40 output=40\n",
      "I1113 14:46:06.364159  8676 efficientnet_model.py:143] round_filter input=80 output=80\n",
      "I1113 14:46:06.524252  8676 efficientnet_model.py:143] round_filter input=80 output=80\n",
      "I1113 14:46:06.524252  8676 efficientnet_model.py:143] round_filter input=112 output=112\n",
      "I1113 14:46:06.722830  8676 efficientnet_model.py:143] round_filter input=112 output=112\n",
      "I1113 14:46:06.722830  8676 efficientnet_model.py:143] round_filter input=192 output=192\n",
      "I1113 14:46:06.908211  8676 efficientnet_model.py:143] round_filter input=192 output=192\n",
      "I1113 14:46:06.908211  8676 efficientnet_model.py:143] round_filter input=320 output=320\n",
      "I1113 14:46:06.950953  8676 efficientnet_model.py:143] round_filter input=1280 output=1280\n",
      "I1113 14:46:06.973472  8676 efficientnet_model.py:453] Building model efficientnet with params ModelConfig(width_coefficient=1.0, depth_coefficient=1.0, resolution=224, dropout_rate=0.2, blocks=(BlockConfig(input_filters=32, output_filters=16, kernel_size=3, num_repeat=1, expand_ratio=1, strides=(1, 1), se_ratio=0.25, id_skip=True, fused_conv=False, conv_type='depthwise'), BlockConfig(input_filters=16, output_filters=24, kernel_size=3, num_repeat=2, expand_ratio=6, strides=(2, 2), se_ratio=0.25, id_skip=True, fused_conv=False, conv_type='depthwise'), BlockConfig(input_filters=24, output_filters=40, kernel_size=5, num_repeat=2, expand_ratio=6, strides=(2, 2), se_ratio=0.25, id_skip=True, fused_conv=False, conv_type='depthwise'), BlockConfig(input_filters=40, output_filters=80, kernel_size=3, num_repeat=3, expand_ratio=6, strides=(2, 2), se_ratio=0.25, id_skip=True, fused_conv=False, conv_type='depthwise'), BlockConfig(input_filters=80, output_filters=112, kernel_size=5, num_repeat=3, expand_ratio=6, strides=(1, 1), se_ratio=0.25, id_skip=True, fused_conv=False, conv_type='depthwise'), BlockConfig(input_filters=112, output_filters=192, kernel_size=5, num_repeat=4, expand_ratio=6, strides=(2, 2), se_ratio=0.25, id_skip=True, fused_conv=False, conv_type='depthwise'), BlockConfig(input_filters=192, output_filters=320, kernel_size=3, num_repeat=1, expand_ratio=6, strides=(1, 1), se_ratio=0.25, id_skip=True, fused_conv=False, conv_type='depthwise')), stem_base_filters=32, top_base_filters=1280, activation='simple_swish', batch_norm='default', bn_momentum=0.99, bn_epsilon=0.001, weight_decay=5e-06, drop_connect_rate=0.2, depth_divisor=8, min_depth=None, use_se=True, input_channels=3, num_classes=1000, model_name='efficientnet', rescale_input=False, data_format='channels_last', dtype='float32')\n",
      "I1113 14:46:06.998753  8676 ssd_efficientnet_bifpn_feature_extractor.py:161] EfficientDet EfficientNet backbone version: efficientnet-b1\n",
      "I1113 14:46:06.998753  8676 ssd_efficientnet_bifpn_feature_extractor.py:163] EfficientDet BiFPN num filters: 88\n",
      "I1113 14:46:06.998753  8676 ssd_efficientnet_bifpn_feature_extractor.py:164] EfficientDet BiFPN num iterations: 4\n",
      "I1113 14:46:06.998753  8676 efficientnet_model.py:143] round_filter input=32 output=32\n",
      "I1113 14:46:07.007841  8676 efficientnet_model.py:143] round_filter input=32 output=32\n",
      "I1113 14:46:07.007841  8676 efficientnet_model.py:143] round_filter input=16 output=16\n",
      "I1113 14:46:07.076016  8676 efficientnet_model.py:143] round_filter input=16 output=16\n",
      "I1113 14:46:07.077018  8676 efficientnet_model.py:143] round_filter input=24 output=24\n",
      "I1113 14:46:07.203055  8676 efficientnet_model.py:143] round_filter input=24 output=24\n",
      "I1113 14:46:07.203055  8676 efficientnet_model.py:143] round_filter input=40 output=40\n",
      "I1113 14:46:07.328616  8676 efficientnet_model.py:143] round_filter input=40 output=40\n",
      "I1113 14:46:07.328616  8676 efficientnet_model.py:143] round_filter input=80 output=80\n",
      "I1113 14:46:07.494677  8676 efficientnet_model.py:143] round_filter input=80 output=80\n",
      "I1113 14:46:07.494677  8676 efficientnet_model.py:143] round_filter input=112 output=112\n",
      "I1113 14:46:07.662320  8676 efficientnet_model.py:143] round_filter input=112 output=112\n",
      "I1113 14:46:07.662320  8676 efficientnet_model.py:143] round_filter input=192 output=192\n",
      "I1113 14:46:07.904493  8676 efficientnet_model.py:143] round_filter input=192 output=192\n",
      "I1113 14:46:07.904493  8676 efficientnet_model.py:143] round_filter input=320 output=320\n",
      "I1113 14:46:08.016691  8676 efficientnet_model.py:143] round_filter input=1280 output=1280\n",
      "I1113 14:46:08.033877  8676 efficientnet_model.py:453] Building model efficientnet with params ModelConfig(width_coefficient=1.0, depth_coefficient=1.1, resolution=240, dropout_rate=0.2, blocks=(BlockConfig(input_filters=32, output_filters=16, kernel_size=3, num_repeat=1, expand_ratio=1, strides=(1, 1), se_ratio=0.25, id_skip=True, fused_conv=False, conv_type='depthwise'), BlockConfig(input_filters=16, output_filters=24, kernel_size=3, num_repeat=2, expand_ratio=6, strides=(2, 2), se_ratio=0.25, id_skip=True, fused_conv=False, conv_type='depthwise'), BlockConfig(input_filters=24, output_filters=40, kernel_size=5, num_repeat=2, expand_ratio=6, strides=(2, 2), se_ratio=0.25, id_skip=True, fused_conv=False, conv_type='depthwise'), BlockConfig(input_filters=40, output_filters=80, kernel_size=3, num_repeat=3, expand_ratio=6, strides=(2, 2), se_ratio=0.25, id_skip=True, fused_conv=False, conv_type='depthwise'), BlockConfig(input_filters=80, output_filters=112, kernel_size=5, num_repeat=3, expand_ratio=6, strides=(1, 1), se_ratio=0.25, id_skip=True, fused_conv=False, conv_type='depthwise'), BlockConfig(input_filters=112, output_filters=192, kernel_size=5, num_repeat=4, expand_ratio=6, strides=(2, 2), se_ratio=0.25, id_skip=True, fused_conv=False, conv_type='depthwise'), BlockConfig(input_filters=192, output_filters=320, kernel_size=3, num_repeat=1, expand_ratio=6, strides=(1, 1), se_ratio=0.25, id_skip=True, fused_conv=False, conv_type='depthwise')), stem_base_filters=32, top_base_filters=1280, activation='simple_swish', batch_norm='default', bn_momentum=0.99, bn_epsilon=0.001, weight_decay=5e-06, drop_connect_rate=0.2, depth_divisor=8, min_depth=None, use_se=True, input_channels=3, num_classes=1000, model_name='efficientnet', rescale_input=False, data_format='channels_last', dtype='float32')\n",
      "I1113 14:46:08.066036  8676 ssd_efficientnet_bifpn_feature_extractor.py:161] EfficientDet EfficientNet backbone version: efficientnet-b2\n",
      "I1113 14:46:08.066036  8676 ssd_efficientnet_bifpn_feature_extractor.py:163] EfficientDet BiFPN num filters: 112\n",
      "I1113 14:46:08.066036  8676 ssd_efficientnet_bifpn_feature_extractor.py:164] EfficientDet BiFPN num iterations: 5\n",
      "I1113 14:46:08.067111  8676 efficientnet_model.py:143] round_filter input=32 output=32\n",
      "I1113 14:46:08.077386  8676 efficientnet_model.py:143] round_filter input=32 output=32\n",
      "I1113 14:46:08.077386  8676 efficientnet_model.py:143] round_filter input=16 output=16\n",
      "I1113 14:46:08.153929  8676 efficientnet_model.py:143] round_filter input=16 output=16\n",
      "I1113 14:46:08.153929  8676 efficientnet_model.py:143] round_filter input=24 output=24\n",
      "I1113 14:46:08.371130  8676 efficientnet_model.py:143] round_filter input=24 output=24\n",
      "I1113 14:46:08.371130  8676 efficientnet_model.py:143] round_filter input=40 output=48\n",
      "I1113 14:46:08.507301  8676 efficientnet_model.py:143] round_filter input=40 output=48\n",
      "I1113 14:46:08.507301  8676 efficientnet_model.py:143] round_filter input=80 output=88\n",
      "I1113 14:46:08.722296  8676 efficientnet_model.py:143] round_filter input=80 output=88\n",
      "I1113 14:46:08.723297  8676 efficientnet_model.py:143] round_filter input=112 output=120\n",
      "I1113 14:46:08.940587  8676 efficientnet_model.py:143] round_filter input=112 output=120\n",
      "I1113 14:46:08.940587  8676 efficientnet_model.py:143] round_filter input=192 output=208\n",
      "I1113 14:46:09.176766  8676 efficientnet_model.py:143] round_filter input=192 output=208\n",
      "I1113 14:46:09.176766  8676 efficientnet_model.py:143] round_filter input=320 output=352\n",
      "I1113 14:46:09.270664  8676 efficientnet_model.py:143] round_filter input=1280 output=1408\n",
      "I1113 14:46:09.292330  8676 efficientnet_model.py:453] Building model efficientnet with params ModelConfig(width_coefficient=1.1, depth_coefficient=1.2, resolution=260, dropout_rate=0.3, blocks=(BlockConfig(input_filters=32, output_filters=16, kernel_size=3, num_repeat=1, expand_ratio=1, strides=(1, 1), se_ratio=0.25, id_skip=True, fused_conv=False, conv_type='depthwise'), BlockConfig(input_filters=16, output_filters=24, kernel_size=3, num_repeat=2, expand_ratio=6, strides=(2, 2), se_ratio=0.25, id_skip=True, fused_conv=False, conv_type='depthwise'), BlockConfig(input_filters=24, output_filters=40, kernel_size=5, num_repeat=2, expand_ratio=6, strides=(2, 2), se_ratio=0.25, id_skip=True, fused_conv=False, conv_type='depthwise'), BlockConfig(input_filters=40, output_filters=80, kernel_size=3, num_repeat=3, expand_ratio=6, strides=(2, 2), se_ratio=0.25, id_skip=True, fused_conv=False, conv_type='depthwise'), BlockConfig(input_filters=80, output_filters=112, kernel_size=5, num_repeat=3, expand_ratio=6, strides=(1, 1), se_ratio=0.25, id_skip=True, fused_conv=False, conv_type='depthwise'), BlockConfig(input_filters=112, output_filters=192, kernel_size=5, num_repeat=4, expand_ratio=6, strides=(2, 2), se_ratio=0.25, id_skip=True, fused_conv=False, conv_type='depthwise'), BlockConfig(input_filters=192, output_filters=320, kernel_size=3, num_repeat=1, expand_ratio=6, strides=(1, 1), se_ratio=0.25, id_skip=True, fused_conv=False, conv_type='depthwise')), stem_base_filters=32, top_base_filters=1280, activation='simple_swish', batch_norm='default', bn_momentum=0.99, bn_epsilon=0.001, weight_decay=5e-06, drop_connect_rate=0.2, depth_divisor=8, min_depth=None, use_se=True, input_channels=3, num_classes=1000, model_name='efficientnet', rescale_input=False, data_format='channels_last', dtype='float32')\n",
      "I1113 14:46:09.321837  8676 ssd_efficientnet_bifpn_feature_extractor.py:161] EfficientDet EfficientNet backbone version: efficientnet-b3\n",
      "I1113 14:46:09.321837  8676 ssd_efficientnet_bifpn_feature_extractor.py:163] EfficientDet BiFPN num filters: 160\n",
      "I1113 14:46:09.321837  8676 ssd_efficientnet_bifpn_feature_extractor.py:164] EfficientDet BiFPN num iterations: 6\n",
      "I1113 14:46:09.322724  8676 efficientnet_model.py:143] round_filter input=32 output=40\n",
      "I1113 14:46:09.334637  8676 efficientnet_model.py:143] round_filter input=32 output=40\n",
      "I1113 14:46:09.334637  8676 efficientnet_model.py:143] round_filter input=16 output=24\n",
      "I1113 14:46:09.409012  8676 efficientnet_model.py:143] round_filter input=16 output=24\n",
      "I1113 14:46:09.409012  8676 efficientnet_model.py:143] round_filter input=24 output=32\n",
      "I1113 14:46:09.545233  8676 efficientnet_model.py:143] round_filter input=24 output=32\n",
      "I1113 14:46:09.545233  8676 efficientnet_model.py:143] round_filter input=40 output=48\n",
      "I1113 14:46:09.683082  8676 efficientnet_model.py:143] round_filter input=40 output=48\n",
      "I1113 14:46:09.683082  8676 efficientnet_model.py:143] round_filter input=80 output=96\n",
      "I1113 14:46:09.917498  8676 efficientnet_model.py:143] round_filter input=80 output=96\n",
      "I1113 14:46:09.917674  8676 efficientnet_model.py:143] round_filter input=112 output=136\n",
      "I1113 14:46:10.142862  8676 efficientnet_model.py:143] round_filter input=112 output=136\n",
      "I1113 14:46:10.142862  8676 efficientnet_model.py:143] round_filter input=192 output=232\n",
      "I1113 14:46:10.425396  8676 efficientnet_model.py:143] round_filter input=192 output=232\n",
      "I1113 14:46:10.425396  8676 efficientnet_model.py:143] round_filter input=320 output=384\n",
      "I1113 14:46:10.523519  8676 efficientnet_model.py:143] round_filter input=1280 output=1536\n",
      "I1113 14:46:10.544577  8676 efficientnet_model.py:453] Building model efficientnet with params ModelConfig(width_coefficient=1.2, depth_coefficient=1.4, resolution=300, dropout_rate=0.3, blocks=(BlockConfig(input_filters=32, output_filters=16, kernel_size=3, num_repeat=1, expand_ratio=1, strides=(1, 1), se_ratio=0.25, id_skip=True, fused_conv=False, conv_type='depthwise'), BlockConfig(input_filters=16, output_filters=24, kernel_size=3, num_repeat=2, expand_ratio=6, strides=(2, 2), se_ratio=0.25, id_skip=True, fused_conv=False, conv_type='depthwise'), BlockConfig(input_filters=24, output_filters=40, kernel_size=5, num_repeat=2, expand_ratio=6, strides=(2, 2), se_ratio=0.25, id_skip=True, fused_conv=False, conv_type='depthwise'), BlockConfig(input_filters=40, output_filters=80, kernel_size=3, num_repeat=3, expand_ratio=6, strides=(2, 2), se_ratio=0.25, id_skip=True, fused_conv=False, conv_type='depthwise'), BlockConfig(input_filters=80, output_filters=112, kernel_size=5, num_repeat=3, expand_ratio=6, strides=(1, 1), se_ratio=0.25, id_skip=True, fused_conv=False, conv_type='depthwise'), BlockConfig(input_filters=112, output_filters=192, kernel_size=5, num_repeat=4, expand_ratio=6, strides=(2, 2), se_ratio=0.25, id_skip=True, fused_conv=False, conv_type='depthwise'), BlockConfig(input_filters=192, output_filters=320, kernel_size=3, num_repeat=1, expand_ratio=6, strides=(1, 1), se_ratio=0.25, id_skip=True, fused_conv=False, conv_type='depthwise')), stem_base_filters=32, top_base_filters=1280, activation='simple_swish', batch_norm='default', bn_momentum=0.99, bn_epsilon=0.001, weight_decay=5e-06, drop_connect_rate=0.2, depth_divisor=8, min_depth=None, use_se=True, input_channels=3, num_classes=1000, model_name='efficientnet', rescale_input=False, data_format='channels_last', dtype='float32')\n",
      "I1113 14:46:10.575219  8676 ssd_efficientnet_bifpn_feature_extractor.py:161] EfficientDet EfficientNet backbone version: efficientnet-b4\n",
      "I1113 14:46:10.576236  8676 ssd_efficientnet_bifpn_feature_extractor.py:163] EfficientDet BiFPN num filters: 224\n",
      "I1113 14:46:10.576236  8676 ssd_efficientnet_bifpn_feature_extractor.py:164] EfficientDet BiFPN num iterations: 7\n",
      "I1113 14:46:10.576236  8676 efficientnet_model.py:143] round_filter input=32 output=48\n",
      "I1113 14:46:10.588052  8676 efficientnet_model.py:143] round_filter input=32 output=48\n",
      "I1113 14:46:10.588052  8676 efficientnet_model.py:143] round_filter input=16 output=24\n",
      "I1113 14:46:10.662597  8676 efficientnet_model.py:143] round_filter input=16 output=24\n",
      "I1113 14:46:10.662597  8676 efficientnet_model.py:143] round_filter input=24 output=32\n",
      "I1113 14:46:10.836838  8676 efficientnet_model.py:143] round_filter input=24 output=32\n",
      "I1113 14:46:10.836838  8676 efficientnet_model.py:143] round_filter input=40 output=56\n",
      "I1113 14:46:11.023320  8676 efficientnet_model.py:143] round_filter input=40 output=56\n",
      "I1113 14:46:11.023320  8676 efficientnet_model.py:143] round_filter input=80 output=112\n",
      "I1113 14:46:11.292813  8676 efficientnet_model.py:143] round_filter input=80 output=112\n",
      "I1113 14:46:11.292813  8676 efficientnet_model.py:143] round_filter input=112 output=160\n",
      "I1113 14:46:11.581647  8676 efficientnet_model.py:143] round_filter input=112 output=160\n",
      "I1113 14:46:11.581647  8676 efficientnet_model.py:143] round_filter input=192 output=272\n",
      "I1113 14:46:12.065672  8676 efficientnet_model.py:143] round_filter input=192 output=272\n",
      "I1113 14:46:12.065672  8676 efficientnet_model.py:143] round_filter input=320 output=448\n",
      "I1113 14:46:12.162600  8676 efficientnet_model.py:143] round_filter input=1280 output=1792\n",
      "I1113 14:46:12.185197  8676 efficientnet_model.py:453] Building model efficientnet with params ModelConfig(width_coefficient=1.4, depth_coefficient=1.8, resolution=380, dropout_rate=0.4, blocks=(BlockConfig(input_filters=32, output_filters=16, kernel_size=3, num_repeat=1, expand_ratio=1, strides=(1, 1), se_ratio=0.25, id_skip=True, fused_conv=False, conv_type='depthwise'), BlockConfig(input_filters=16, output_filters=24, kernel_size=3, num_repeat=2, expand_ratio=6, strides=(2, 2), se_ratio=0.25, id_skip=True, fused_conv=False, conv_type='depthwise'), BlockConfig(input_filters=24, output_filters=40, kernel_size=5, num_repeat=2, expand_ratio=6, strides=(2, 2), se_ratio=0.25, id_skip=True, fused_conv=False, conv_type='depthwise'), BlockConfig(input_filters=40, output_filters=80, kernel_size=3, num_repeat=3, expand_ratio=6, strides=(2, 2), se_ratio=0.25, id_skip=True, fused_conv=False, conv_type='depthwise'), BlockConfig(input_filters=80, output_filters=112, kernel_size=5, num_repeat=3, expand_ratio=6, strides=(1, 1), se_ratio=0.25, id_skip=True, fused_conv=False, conv_type='depthwise'), BlockConfig(input_filters=112, output_filters=192, kernel_size=5, num_repeat=4, expand_ratio=6, strides=(2, 2), se_ratio=0.25, id_skip=True, fused_conv=False, conv_type='depthwise'), BlockConfig(input_filters=192, output_filters=320, kernel_size=3, num_repeat=1, expand_ratio=6, strides=(1, 1), se_ratio=0.25, id_skip=True, fused_conv=False, conv_type='depthwise')), stem_base_filters=32, top_base_filters=1280, activation='simple_swish', batch_norm='default', bn_momentum=0.99, bn_epsilon=0.001, weight_decay=5e-06, drop_connect_rate=0.2, depth_divisor=8, min_depth=None, use_se=True, input_channels=3, num_classes=1000, model_name='efficientnet', rescale_input=False, data_format='channels_last', dtype='float32')\n",
      "I1113 14:46:12.219842  8676 ssd_efficientnet_bifpn_feature_extractor.py:161] EfficientDet EfficientNet backbone version: efficientnet-b5\n",
      "I1113 14:46:12.219842  8676 ssd_efficientnet_bifpn_feature_extractor.py:163] EfficientDet BiFPN num filters: 288\n",
      "I1113 14:46:12.219842  8676 ssd_efficientnet_bifpn_feature_extractor.py:164] EfficientDet BiFPN num iterations: 7\n",
      "I1113 14:46:12.220755  8676 efficientnet_model.py:143] round_filter input=32 output=48\n",
      "I1113 14:46:12.230222  8676 efficientnet_model.py:143] round_filter input=32 output=48\n",
      "I1113 14:46:12.231220  8676 efficientnet_model.py:143] round_filter input=16 output=24\n",
      "I1113 14:46:12.342615  8676 efficientnet_model.py:143] round_filter input=16 output=24\n",
      "I1113 14:46:12.342615  8676 efficientnet_model.py:143] round_filter input=24 output=40\n",
      "I1113 14:46:12.561569  8676 efficientnet_model.py:143] round_filter input=24 output=40\n",
      "I1113 14:46:12.561569  8676 efficientnet_model.py:143] round_filter input=40 output=64\n",
      "I1113 14:46:12.791716  8676 efficientnet_model.py:143] round_filter input=40 output=64\n",
      "I1113 14:46:12.792734  8676 efficientnet_model.py:143] round_filter input=80 output=128\n",
      "I1113 14:46:13.116268  8676 efficientnet_model.py:143] round_filter input=80 output=128\n",
      "I1113 14:46:13.116268  8676 efficientnet_model.py:143] round_filter input=112 output=176\n",
      "I1113 14:46:13.457091  8676 efficientnet_model.py:143] round_filter input=112 output=176\n",
      "I1113 14:46:13.457161  8676 efficientnet_model.py:143] round_filter input=192 output=304\n",
      "I1113 14:46:13.870284  8676 efficientnet_model.py:143] round_filter input=192 output=304\n",
      "I1113 14:46:13.870284  8676 efficientnet_model.py:143] round_filter input=320 output=512\n",
      "I1113 14:46:14.011329  8676 efficientnet_model.py:143] round_filter input=1280 output=2048\n",
      "I1113 14:46:14.030876  8676 efficientnet_model.py:453] Building model efficientnet with params ModelConfig(width_coefficient=1.6, depth_coefficient=2.2, resolution=456, dropout_rate=0.4, blocks=(BlockConfig(input_filters=32, output_filters=16, kernel_size=3, num_repeat=1, expand_ratio=1, strides=(1, 1), se_ratio=0.25, id_skip=True, fused_conv=False, conv_type='depthwise'), BlockConfig(input_filters=16, output_filters=24, kernel_size=3, num_repeat=2, expand_ratio=6, strides=(2, 2), se_ratio=0.25, id_skip=True, fused_conv=False, conv_type='depthwise'), BlockConfig(input_filters=24, output_filters=40, kernel_size=5, num_repeat=2, expand_ratio=6, strides=(2, 2), se_ratio=0.25, id_skip=True, fused_conv=False, conv_type='depthwise'), BlockConfig(input_filters=40, output_filters=80, kernel_size=3, num_repeat=3, expand_ratio=6, strides=(2, 2), se_ratio=0.25, id_skip=True, fused_conv=False, conv_type='depthwise'), BlockConfig(input_filters=80, output_filters=112, kernel_size=5, num_repeat=3, expand_ratio=6, strides=(1, 1), se_ratio=0.25, id_skip=True, fused_conv=False, conv_type='depthwise'), BlockConfig(input_filters=112, output_filters=192, kernel_size=5, num_repeat=4, expand_ratio=6, strides=(2, 2), se_ratio=0.25, id_skip=True, fused_conv=False, conv_type='depthwise'), BlockConfig(input_filters=192, output_filters=320, kernel_size=3, num_repeat=1, expand_ratio=6, strides=(1, 1), se_ratio=0.25, id_skip=True, fused_conv=False, conv_type='depthwise')), stem_base_filters=32, top_base_filters=1280, activation='simple_swish', batch_norm='default', bn_momentum=0.99, bn_epsilon=0.001, weight_decay=5e-06, drop_connect_rate=0.2, depth_divisor=8, min_depth=None, use_se=True, input_channels=3, num_classes=1000, model_name='efficientnet', rescale_input=False, data_format='channels_last', dtype='float32')\n",
      "I1113 14:46:14.078169  8676 ssd_efficientnet_bifpn_feature_extractor.py:161] EfficientDet EfficientNet backbone version: efficientnet-b6\n",
      "I1113 14:46:14.078169  8676 ssd_efficientnet_bifpn_feature_extractor.py:163] EfficientDet BiFPN num filters: 384\n",
      "I1113 14:46:14.078169  8676 ssd_efficientnet_bifpn_feature_extractor.py:164] EfficientDet BiFPN num iterations: 8\n",
      "I1113 14:46:14.079170  8676 efficientnet_model.py:143] round_filter input=32 output=56\n",
      "I1113 14:46:14.092521  8676 efficientnet_model.py:143] round_filter input=32 output=56\n",
      "I1113 14:46:14.092521  8676 efficientnet_model.py:143] round_filter input=16 output=32\n",
      "I1113 14:46:14.202033  8676 efficientnet_model.py:143] round_filter input=16 output=32\n",
      "I1113 14:46:14.202033  8676 efficientnet_model.py:143] round_filter input=24 output=40\n",
      "I1113 14:46:14.463922  8676 efficientnet_model.py:143] round_filter input=24 output=40\n",
      "I1113 14:46:14.463922  8676 efficientnet_model.py:143] round_filter input=40 output=72\n",
      "I1113 14:46:14.738110  8676 efficientnet_model.py:143] round_filter input=40 output=72\n",
      "I1113 14:46:14.738110  8676 efficientnet_model.py:143] round_filter input=80 output=144\n",
      "I1113 14:46:15.104278  8676 efficientnet_model.py:143] round_filter input=80 output=144\n",
      "I1113 14:46:15.104278  8676 efficientnet_model.py:143] round_filter input=112 output=200\n",
      "I1113 14:46:15.657796  8676 efficientnet_model.py:143] round_filter input=112 output=200\n",
      "I1113 14:46:15.657796  8676 efficientnet_model.py:143] round_filter input=192 output=344\n",
      "I1113 14:46:16.201850  8676 efficientnet_model.py:143] round_filter input=192 output=344\n",
      "I1113 14:46:16.202868  8676 efficientnet_model.py:143] round_filter input=320 output=576\n",
      "I1113 14:46:16.362450  8676 efficientnet_model.py:143] round_filter input=1280 output=2304\n",
      "I1113 14:46:16.384789  8676 efficientnet_model.py:453] Building model efficientnet with params ModelConfig(width_coefficient=1.8, depth_coefficient=2.6, resolution=528, dropout_rate=0.5, blocks=(BlockConfig(input_filters=32, output_filters=16, kernel_size=3, num_repeat=1, expand_ratio=1, strides=(1, 1), se_ratio=0.25, id_skip=True, fused_conv=False, conv_type='depthwise'), BlockConfig(input_filters=16, output_filters=24, kernel_size=3, num_repeat=2, expand_ratio=6, strides=(2, 2), se_ratio=0.25, id_skip=True, fused_conv=False, conv_type='depthwise'), BlockConfig(input_filters=24, output_filters=40, kernel_size=5, num_repeat=2, expand_ratio=6, strides=(2, 2), se_ratio=0.25, id_skip=True, fused_conv=False, conv_type='depthwise'), BlockConfig(input_filters=40, output_filters=80, kernel_size=3, num_repeat=3, expand_ratio=6, strides=(2, 2), se_ratio=0.25, id_skip=True, fused_conv=False, conv_type='depthwise'), BlockConfig(input_filters=80, output_filters=112, kernel_size=5, num_repeat=3, expand_ratio=6, strides=(1, 1), se_ratio=0.25, id_skip=True, fused_conv=False, conv_type='depthwise'), BlockConfig(input_filters=112, output_filters=192, kernel_size=5, num_repeat=4, expand_ratio=6, strides=(2, 2), se_ratio=0.25, id_skip=True, fused_conv=False, conv_type='depthwise'), BlockConfig(input_filters=192, output_filters=320, kernel_size=3, num_repeat=1, expand_ratio=6, strides=(1, 1), se_ratio=0.25, id_skip=True, fused_conv=False, conv_type='depthwise')), stem_base_filters=32, top_base_filters=1280, activation='simple_swish', batch_norm='default', bn_momentum=0.99, bn_epsilon=0.001, weight_decay=5e-06, drop_connect_rate=0.2, depth_divisor=8, min_depth=None, use_se=True, input_channels=3, num_classes=1000, model_name='efficientnet', rescale_input=False, data_format='channels_last', dtype='float32')\n",
      "I1113 14:46:16.436403  8676 ssd_efficientnet_bifpn_feature_extractor.py:161] EfficientDet EfficientNet backbone version: efficientnet-b7\n",
      "I1113 14:46:16.436403  8676 ssd_efficientnet_bifpn_feature_extractor.py:163] EfficientDet BiFPN num filters: 384\n",
      "I1113 14:46:16.436403  8676 ssd_efficientnet_bifpn_feature_extractor.py:164] EfficientDet BiFPN num iterations: 8\n",
      "I1113 14:46:16.437562  8676 efficientnet_model.py:143] round_filter input=32 output=64\n",
      "I1113 14:46:16.448883  8676 efficientnet_model.py:143] round_filter input=32 output=64\n",
      "I1113 14:46:16.449906  8676 efficientnet_model.py:143] round_filter input=16 output=32\n",
      "I1113 14:46:16.607140  8676 efficientnet_model.py:143] round_filter input=16 output=32\n",
      "I1113 14:46:16.607140  8676 efficientnet_model.py:143] round_filter input=24 output=48\n",
      "I1113 14:46:16.907417  8676 efficientnet_model.py:143] round_filter input=24 output=48\n",
      "I1113 14:46:16.907417  8676 efficientnet_model.py:143] round_filter input=40 output=80\n",
      "I1113 14:46:17.214656  8676 efficientnet_model.py:143] round_filter input=40 output=80\n",
      "I1113 14:46:17.214656  8676 efficientnet_model.py:143] round_filter input=80 output=160\n",
      "I1113 14:46:17.653282  8676 efficientnet_model.py:143] round_filter input=80 output=160\n",
      "I1113 14:46:17.654282  8676 efficientnet_model.py:143] round_filter input=112 output=224\n",
      "I1113 14:46:18.091753  8676 efficientnet_model.py:143] round_filter input=112 output=224\n",
      "I1113 14:46:18.091753  8676 efficientnet_model.py:143] round_filter input=192 output=384\n",
      "I1113 14:46:18.659500  8676 efficientnet_model.py:143] round_filter input=192 output=384\n",
      "I1113 14:46:18.659500  8676 efficientnet_model.py:143] round_filter input=320 output=640\n",
      "I1113 14:46:18.844872  8676 efficientnet_model.py:143] round_filter input=1280 output=2560\n",
      "I1113 14:46:18.864727  8676 efficientnet_model.py:453] Building model efficientnet with params ModelConfig(width_coefficient=2.0, depth_coefficient=3.1, resolution=600, dropout_rate=0.5, blocks=(BlockConfig(input_filters=32, output_filters=16, kernel_size=3, num_repeat=1, expand_ratio=1, strides=(1, 1), se_ratio=0.25, id_skip=True, fused_conv=False, conv_type='depthwise'), BlockConfig(input_filters=16, output_filters=24, kernel_size=3, num_repeat=2, expand_ratio=6, strides=(2, 2), se_ratio=0.25, id_skip=True, fused_conv=False, conv_type='depthwise'), BlockConfig(input_filters=24, output_filters=40, kernel_size=5, num_repeat=2, expand_ratio=6, strides=(2, 2), se_ratio=0.25, id_skip=True, fused_conv=False, conv_type='depthwise'), BlockConfig(input_filters=40, output_filters=80, kernel_size=3, num_repeat=3, expand_ratio=6, strides=(2, 2), se_ratio=0.25, id_skip=True, fused_conv=False, conv_type='depthwise'), BlockConfig(input_filters=80, output_filters=112, kernel_size=5, num_repeat=3, expand_ratio=6, strides=(1, 1), se_ratio=0.25, id_skip=True, fused_conv=False, conv_type='depthwise'), BlockConfig(input_filters=112, output_filters=192, kernel_size=5, num_repeat=4, expand_ratio=6, strides=(2, 2), se_ratio=0.25, id_skip=True, fused_conv=False, conv_type='depthwise'), BlockConfig(input_filters=192, output_filters=320, kernel_size=3, num_repeat=1, expand_ratio=6, strides=(1, 1), se_ratio=0.25, id_skip=True, fused_conv=False, conv_type='depthwise')), stem_base_filters=32, top_base_filters=1280, activation='simple_swish', batch_norm='default', bn_momentum=0.99, bn_epsilon=0.001, weight_decay=5e-06, drop_connect_rate=0.2, depth_divisor=8, min_depth=None, use_se=True, input_channels=3, num_classes=1000, model_name='efficientnet', rescale_input=False, data_format='channels_last', dtype='float32')\n",
      "INFO:tensorflow:time(__main__.ModelBuilderTF2Test.test_create_ssd_models_from_config): 13.03s\n",
      "I1113 14:46:19.049374  8676 test_util.py:2460] time(__main__.ModelBuilderTF2Test.test_create_ssd_models_from_config): 13.03s\n",
      "[       OK ] ModelBuilderTF2Test.test_create_ssd_models_from_config\n",
      "[ RUN      ] ModelBuilderTF2Test.test_invalid_faster_rcnn_batchnorm_update\n",
      "INFO:tensorflow:time(__main__.ModelBuilderTF2Test.test_invalid_faster_rcnn_batchnorm_update): 0.0s\n",
      "I1113 14:46:19.062677  8676 test_util.py:2460] time(__main__.ModelBuilderTF2Test.test_invalid_faster_rcnn_batchnorm_update): 0.0s\n",
      "[       OK ] ModelBuilderTF2Test.test_invalid_faster_rcnn_batchnorm_update\n",
      "[ RUN      ] ModelBuilderTF2Test.test_invalid_first_stage_nms_iou_threshold\n",
      "INFO:tensorflow:time(__main__.ModelBuilderTF2Test.test_invalid_first_stage_nms_iou_threshold): 0.0s\n",
      "I1113 14:46:19.063572  8676 test_util.py:2460] time(__main__.ModelBuilderTF2Test.test_invalid_first_stage_nms_iou_threshold): 0.0s\n",
      "[       OK ] ModelBuilderTF2Test.test_invalid_first_stage_nms_iou_threshold\n",
      "[ RUN      ] ModelBuilderTF2Test.test_invalid_model_config_proto\n",
      "INFO:tensorflow:time(__main__.ModelBuilderTF2Test.test_invalid_model_config_proto): 0.0s\n",
      "I1113 14:46:19.064570  8676 test_util.py:2460] time(__main__.ModelBuilderTF2Test.test_invalid_model_config_proto): 0.0s\n",
      "[       OK ] ModelBuilderTF2Test.test_invalid_model_config_proto\n",
      "[ RUN      ] ModelBuilderTF2Test.test_invalid_second_stage_batch_size\n",
      "INFO:tensorflow:time(__main__.ModelBuilderTF2Test.test_invalid_second_stage_batch_size): 0.0s\n",
      "I1113 14:46:19.065667  8676 test_util.py:2460] time(__main__.ModelBuilderTF2Test.test_invalid_second_stage_batch_size): 0.0s\n",
      "[       OK ] ModelBuilderTF2Test.test_invalid_second_stage_batch_size\n",
      "[ RUN      ] ModelBuilderTF2Test.test_session\n",
      "[  SKIPPED ] ModelBuilderTF2Test.test_session\n",
      "[ RUN      ] ModelBuilderTF2Test.test_unknown_faster_rcnn_feature_extractor\n",
      "INFO:tensorflow:time(__main__.ModelBuilderTF2Test.test_unknown_faster_rcnn_feature_extractor): 0.0s\n",
      "I1113 14:46:19.065667  8676 test_util.py:2460] time(__main__.ModelBuilderTF2Test.test_unknown_faster_rcnn_feature_extractor): 0.0s\n",
      "[       OK ] ModelBuilderTF2Test.test_unknown_faster_rcnn_feature_extractor\n",
      "[ RUN      ] ModelBuilderTF2Test.test_unknown_meta_architecture\n",
      "INFO:tensorflow:time(__main__.ModelBuilderTF2Test.test_unknown_meta_architecture): 0.0s\n",
      "I1113 14:46:19.066573  8676 test_util.py:2460] time(__main__.ModelBuilderTF2Test.test_unknown_meta_architecture): 0.0s\n",
      "[       OK ] ModelBuilderTF2Test.test_unknown_meta_architecture\n",
      "[ RUN      ] ModelBuilderTF2Test.test_unknown_ssd_feature_extractor\n",
      "INFO:tensorflow:time(__main__.ModelBuilderTF2Test.test_unknown_ssd_feature_extractor): 0.0s\n",
      "I1113 14:46:19.066660  8676 test_util.py:2460] time(__main__.ModelBuilderTF2Test.test_unknown_ssd_feature_extractor): 0.0s\n",
      "[       OK ] ModelBuilderTF2Test.test_unknown_ssd_feature_extractor\n",
      "----------------------------------------------------------------------\n",
      "Ran 24 tests in 16.321s\n",
      "\n",
      "OK (skipped=1)\n"
     ]
    }
   ],
   "execution_count": 11
  },
  {
   "cell_type": "code",
   "metadata": {
    "colab": {
     "base_uri": "https://localhost:8080/"
    },
    "id": "csofht2npfDE",
    "outputId": "ff5471b2-bed2-43f2-959c-327a706527b6",
    "ExecuteTime": {
     "end_time": "2024-11-13T22:46:21.618208Z",
     "start_time": "2024-11-13T22:46:19.753583Z"
    }
   },
   "source": [
    "wget.download(PRETRAINED_MODEL_URL)\n",
    "!move {PRETRAINED_MODEL_NAME+'.tar.gz'} {paths['PRETRAINED_MODEL_PATH']}\n",
    "!cd {paths['PRETRAINED_MODEL_PATH']} && tar -zxvf {PRETRAINED_MODEL_NAME+'.tar.gz'}"
   ],
   "outputs": [
    {
     "name": "stdout",
     "output_type": "stream",
     "text": [
      "        1 file(s) moved.\n"
     ]
    },
    {
     "name": "stderr",
     "output_type": "stream",
     "text": [
      "x ssd_mobilenet_v2_fpnlite_640x640_coco17_tpu-8/\n",
      "x ssd_mobilenet_v2_fpnlite_640x640_coco17_tpu-8/checkpoint/\n",
      "x ssd_mobilenet_v2_fpnlite_640x640_coco17_tpu-8/checkpoint/ckpt-0.data-00000-of-00001\n",
      "x ssd_mobilenet_v2_fpnlite_640x640_coco17_tpu-8/checkpoint/checkpoint\n",
      "x ssd_mobilenet_v2_fpnlite_640x640_coco17_tpu-8/checkpoint/ckpt-0.index\n",
      "x ssd_mobilenet_v2_fpnlite_640x640_coco17_tpu-8/pipeline.config\n",
      "x ssd_mobilenet_v2_fpnlite_640x640_coco17_tpu-8/saved_model/\n",
      "x ssd_mobilenet_v2_fpnlite_640x640_coco17_tpu-8/saved_model/saved_model.pb\n",
      "x ssd_mobilenet_v2_fpnlite_640x640_coco17_tpu-8/saved_model/variables/\n",
      "x ssd_mobilenet_v2_fpnlite_640x640_coco17_tpu-8/saved_model/variables/variables.data-00000-of-00001\n",
      "x ssd_mobilenet_v2_fpnlite_640x640_coco17_tpu-8/saved_model/variables/variables.index\n"
     ]
    }
   ],
   "execution_count": 12
  },
  {
   "cell_type": "markdown",
   "metadata": {
    "id": "M5KJTnkfpfDC"
   },
   "source": [
    "# 2. Create Label Map"
   ]
  },
  {
   "cell_type": "code",
   "metadata": {
    "id": "p1BVDWo7pfDC",
    "ExecuteTime": {
     "end_time": "2024-11-13T22:46:21.695707Z",
     "start_time": "2024-11-13T22:46:21.687705Z"
    }
   },
   "source": [
    "labels = [{'name':'robot', 'id':1}]\n",
    "\n",
    "with open(files['LABELMAP'], 'w') as f:\n",
    "    for label in labels:\n",
    "        f.write('item { \\n')\n",
    "        f.write('\\tname:\\'{}\\'\\n'.format(label['name']))\n",
    "        f.write('\\tid:{}\\n'.format(label['id']))\n",
    "        f.write('}\\n')"
   ],
   "outputs": [],
   "execution_count": 13
  },
  {
   "cell_type": "markdown",
   "metadata": {
    "id": "C88zyVELpfDC"
   },
   "source": [
    "# 3. Create TF records"
   ]
  },
  {
   "cell_type": "code",
   "metadata": {
    "colab": {
     "base_uri": "https://localhost:8080/"
    },
    "id": "KWpb_BVUpfDD",
    "outputId": "56ce2a3f-3933-4ee6-8a9d-d5ec65f7d73c",
    "ExecuteTime": {
     "end_time": "2024-11-13T22:46:21.743005Z",
     "start_time": "2024-11-13T22:46:21.733007Z"
    }
   },
   "source": [
    "if not os.path.exists(files['TF_RECORD_SCRIPT']):\n",
    "    !git clone https://github.com/nicknochnack/GenerateTFRecord {paths['SCRIPTS_PATH']}"
   ],
   "outputs": [],
   "execution_count": 14
  },
  {
   "cell_type": "code",
   "metadata": {
    "colab": {
     "base_uri": "https://localhost:8080/"
    },
    "id": "UPFToGZqpfDD",
    "outputId": "0ebb456f-aadc-4a1f-96e6-fbfec1923e1c",
    "ExecuteTime": {
     "end_time": "2024-11-13T22:46:26.884541Z",
     "start_time": "2024-11-13T22:46:21.749008Z"
    }
   },
   "source": [
    "!python {files['TF_RECORD_SCRIPT']} -x {os.path.join(paths['IMAGE_PATH'], 'train')} -l {files['LABELMAP']} -o {os.path.join(paths['ANNOTATION_PATH'], 'train.record')} \n",
    "!python {files['TF_RECORD_SCRIPT']} -x {os.path.join(paths['IMAGE_PATH'], 'test')} -l {files['LABELMAP']} -o {os.path.join(paths['ANNOTATION_PATH'], 'test.record')} "
   ],
   "outputs": [
    {
     "name": "stdout",
     "output_type": "stream",
     "text": [
      "Successfully created the TFRecord file: Tensorflow\\workspace\\annotations\\train.record\n",
      "Successfully created the TFRecord file: Tensorflow\\workspace\\annotations\\test.record\n"
     ]
    }
   ],
   "execution_count": 15
  },
  {
   "cell_type": "markdown",
   "metadata": {
    "id": "qT4QU7pLpfDE"
   },
   "source": [
    "# 4. Copy Model Config to Training Folder"
   ]
  },
  {
   "cell_type": "code",
   "metadata": {
    "id": "cOjuTFbwpfDF",
    "ExecuteTime": {
     "end_time": "2024-11-13T22:46:26.961504Z",
     "start_time": "2024-11-13T22:46:26.900783Z"
    }
   },
   "source": "!copy {os.path.join(paths['PRETRAINED_MODEL_PATH'], PRETRAINED_MODEL_NAME, 'pipeline.config')} {os.path.join(paths['CHECKPOINT_PATH'])}",
   "outputs": [
    {
     "name": "stdout",
     "output_type": "stream",
     "text": [
      "        1 file(s) copied.\n"
     ]
    }
   ],
   "execution_count": 16
  },
  {
   "cell_type": "markdown",
   "metadata": {
    "id": "Ga8gpNslpfDF"
   },
   "source": [
    "# 5. Update Config For Transfer Learning"
   ]
  },
  {
   "cell_type": "code",
   "metadata": {
    "id": "Z9hRrO_ppfDF",
    "ExecuteTime": {
     "end_time": "2024-11-13T22:46:28.939480Z",
     "start_time": "2024-11-13T22:46:27.062333Z"
    }
   },
   "source": [
    "import tensorflow as tf\n",
    "from object_detection.utils import config_util\n",
    "from object_detection.protos import pipeline_pb2\n",
    "from google.protobuf import text_format"
   ],
   "outputs": [],
   "execution_count": 17
  },
  {
   "cell_type": "code",
   "metadata": {
    "id": "c2A0mn4ipfDF",
    "ExecuteTime": {
     "end_time": "2024-11-13T22:46:28.970342Z",
     "start_time": "2024-11-13T22:46:28.955946Z"
    }
   },
   "source": [
    "config = config_util.get_configs_from_pipeline_file(files['PIPELINE_CONFIG'])"
   ],
   "outputs": [],
   "execution_count": 18
  },
  {
   "cell_type": "code",
   "metadata": {
    "id": "9vK5lotDpfDF",
    "ExecuteTime": {
     "end_time": "2024-11-13T22:46:29.001238Z",
     "start_time": "2024-11-13T22:46:28.986995Z"
    }
   },
   "source": [
    "pipeline_config = pipeline_pb2.TrainEvalPipelineConfig()\n",
    "with tf.io.gfile.GFile(files['PIPELINE_CONFIG'], \"r\") as f:\n",
    "    proto_str = f.read()\n",
    "    text_format.Merge(proto_str, pipeline_config)  "
   ],
   "outputs": [],
   "execution_count": 19
  },
  {
   "cell_type": "code",
   "metadata": {
    "id": "rP43Ph0JpfDG",
    "ExecuteTime": {
     "end_time": "2024-11-13T22:46:29.032298Z",
     "start_time": "2024-11-13T22:46:29.018134Z"
    }
   },
   "source": [
    "pipeline_config.model.ssd.num_classes = len(labels)\n",
    "pipeline_config.train_config.batch_size = 4\n",
    "pipeline_config.train_config.fine_tune_checkpoint = os.path.join(paths['PRETRAINED_MODEL_PATH'], PRETRAINED_MODEL_NAME, 'checkpoint', 'ckpt-0')\n",
    "pipeline_config.train_config.fine_tune_checkpoint_type = \"detection\"\n",
    "pipeline_config.train_input_reader.label_map_path= files['LABELMAP']\n",
    "pipeline_config.train_input_reader.tf_record_input_reader.input_path[:] = [os.path.join(paths['ANNOTATION_PATH'], 'train.record')]\n",
    "pipeline_config.eval_input_reader[0].label_map_path = files['LABELMAP']\n",
    "pipeline_config.eval_input_reader[0].tf_record_input_reader.input_path[:] = [os.path.join(paths['ANNOTATION_PATH'], 'test.record')]"
   ],
   "outputs": [],
   "execution_count": 20
  },
  {
   "cell_type": "code",
   "metadata": {
    "id": "oJvfgwWqpfDG",
    "ExecuteTime": {
     "end_time": "2024-11-13T22:46:29.063131Z",
     "start_time": "2024-11-13T22:46:29.048950Z"
    }
   },
   "source": [
    "config_text = text_format.MessageToString(pipeline_config)\n",
    "with tf.io.gfile.GFile(files['PIPELINE_CONFIG'], \"wb\") as f:\n",
    "    f.write(config_text)"
   ],
   "outputs": [],
   "execution_count": 21
  },
  {
   "cell_type": "markdown",
   "metadata": {
    "id": "Zr3ON7xMpfDG"
   },
   "source": [
    "# 6. Train the model"
   ]
  },
  {
   "cell_type": "code",
   "metadata": {
    "id": "B-Y2UQmQpfDG",
    "ExecuteTime": {
     "end_time": "2024-11-13T22:46:29.093632Z",
     "start_time": "2024-11-13T22:46:29.079387Z"
    }
   },
   "source": [
    "TRAINING_SCRIPT = os.path.join(paths['APIMODEL_PATH'], 'research', 'object_detection', 'model_main_tf2.py')"
   ],
   "outputs": [],
   "execution_count": 22
  },
  {
   "cell_type": "code",
   "metadata": {
    "id": "jMP2XDfQpfDH",
    "ExecuteTime": {
     "end_time": "2024-11-13T22:46:29.124047Z",
     "start_time": "2024-11-13T22:46:29.109763Z"
    }
   },
   "source": "command = \"python {} --model_dir={} --pipeline_config_path={} --num_train_steps=15000\".format(TRAINING_SCRIPT, paths['CHECKPOINT_PATH'],files['PIPELINE_CONFIG'])",
   "outputs": [],
   "execution_count": 23
  },
  {
   "metadata": {},
   "cell_type": "code",
   "source": "print(command)",
   "outputs": [],
   "execution_count": null
  },
  {
   "cell_type": "markdown",
   "metadata": {
    "id": "4_YRZu7npfDH"
   },
   "source": [
    "# 7. Evaluate the Model"
   ]
  },
  {
   "cell_type": "code",
   "metadata": {
    "id": "80L7-fdPpfDH",
    "ExecuteTime": {
     "end_time": "2024-11-13T23:30:16.221480Z",
     "start_time": "2024-11-13T23:30:16.218478Z"
    }
   },
   "source": [
    "command = \"python {} --model_dir={} --pipeline_config_path={} --checkpoint_dir={}\".format(TRAINING_SCRIPT, paths['CHECKPOINT_PATH'],files['PIPELINE_CONFIG'], paths['CHECKPOINT_PATH'])"
   ],
   "outputs": [],
   "execution_count": 25
  },
  {
   "cell_type": "code",
   "metadata": {
    "id": "lqTV2jGBpfDH",
    "ExecuteTime": {
     "end_time": "2024-11-13T23:30:17.314854Z",
     "start_time": "2024-11-13T23:30:17.298707Z"
    }
   },
   "source": "print(command)",
   "outputs": [
    {
     "name": "stdout",
     "output_type": "stream",
     "text": [
      "python Tensorflow\\models\\research\\object_detection\\model_main_tf2.py --model_dir=Tensorflow\\workspace\\models\\robot_ssd_mobnet_big --pipeline_config_path=Tensorflow\\workspace\\models\\robot_ssd_mobnet_big\\pipeline.config --checkpoint_dir=Tensorflow\\workspace\\models\\robot_ssd_mobnet_big\n"
     ]
    }
   ],
   "execution_count": 26
  },
  {
   "cell_type": "markdown",
   "metadata": {
    "id": "orvRk02UpfDI"
   },
   "source": [
    "# 8. Load Train Model From Checkpoint"
   ]
  },
  {
   "cell_type": "code",
   "metadata": {
    "id": "8TYk4_oIpfDI",
    "ExecuteTime": {
     "end_time": "2024-11-13T23:37:14.369184Z",
     "start_time": "2024-11-13T23:37:13.670172Z"
    }
   },
   "source": [
    "import os\n",
    "import tensorflow as tf\n",
    "from object_detection.utils import label_map_util\n",
    "from object_detection.utils import visualization_utils as viz_utils\n",
    "from object_detection.builders import model_builder\n",
    "from object_detection.utils import config_util"
   ],
   "outputs": [],
   "execution_count": 27
  },
  {
   "cell_type": "code",
   "metadata": {
    "id": "tDnQg-cYpfDI",
    "ExecuteTime": {
     "end_time": "2024-11-13T23:37:23.687836Z",
     "start_time": "2024-11-13T23:37:17.401840Z"
    }
   },
   "source": [
    "# Load pipeline config and build a detection model\n",
    "configs = config_util.get_configs_from_pipeline_file(files['PIPELINE_CONFIG'])\n",
    "detection_model = model_builder.build(model_config=configs['model'], is_training=False)\n",
    "\n",
    "# Restore checkpoint\n",
    "ckpt = tf.compat.v2.train.Checkpoint(model=detection_model)\n",
    "ckpt.restore(os.path.join(paths['CHECKPOINT_PATH'], 'ckpt-20')).expect_partial()\n",
    "\n",
    "@tf.function\n",
    "def detect_fn(image):\n",
    "    image, shapes = detection_model.preprocess(image)\n",
    "    prediction_dict = detection_model.predict(image, shapes)\n",
    "    detections = detection_model.postprocess(prediction_dict, shapes)\n",
    "    return detections"
   ],
   "outputs": [
    {
     "ename": "NotFoundError",
     "evalue": "Error when restoring from checkpoint or SavedModel at Tensorflow\\workspace\\models\\robot_ssd_mobnet_big\\ckpt-20: Unsuccessful TensorSliceReader constructor: Failed to find any matching files for Tensorflow\\workspace\\models\\robot_ssd_mobnet_big\\ckpt-20\nPlease double-check that the path is correct. You may be missing the checkpoint suffix (e.g. the '-1' in 'path/to/ckpt-1').",
     "output_type": "error",
     "traceback": [
      "\u001B[1;31m---------------------------------------------------------------------------\u001B[0m",
      "\u001B[1;31mRuntimeError\u001B[0m                              Traceback (most recent call last)",
      "File \u001B[1;32m~\\PycharmProjects\\Drone\\.venv\\lib\\site-packages\\tensorflow\\python\\training\\py_checkpoint_reader.py:92\u001B[0m, in \u001B[0;36mNewCheckpointReader\u001B[1;34m(filepattern)\u001B[0m\n\u001B[0;32m     91\u001B[0m \u001B[38;5;28;01mtry\u001B[39;00m:\n\u001B[1;32m---> 92\u001B[0m   \u001B[38;5;28;01mreturn\u001B[39;00m \u001B[43mCheckpointReader\u001B[49m\u001B[43m(\u001B[49m\u001B[43mcompat\u001B[49m\u001B[38;5;241;43m.\u001B[39;49m\u001B[43mas_bytes\u001B[49m\u001B[43m(\u001B[49m\u001B[43mfilepattern\u001B[49m\u001B[43m)\u001B[49m\u001B[43m)\u001B[49m\n\u001B[0;32m     93\u001B[0m \u001B[38;5;66;03m# TODO(b/143319754): Remove the RuntimeError casting logic once we resolve the\u001B[39;00m\n\u001B[0;32m     94\u001B[0m \u001B[38;5;66;03m# issue with throwing python exceptions from C++.\u001B[39;00m\n",
      "\u001B[1;31mRuntimeError\u001B[0m: Unsuccessful TensorSliceReader constructor: Failed to find any matching files for Tensorflow\\workspace\\models\\robot_ssd_mobnet_big\\ckpt-20",
      "\nDuring handling of the above exception, another exception occurred:\n",
      "\u001B[1;31mNotFoundError\u001B[0m                             Traceback (most recent call last)",
      "File \u001B[1;32m~\\PycharmProjects\\Drone\\.venv\\lib\\site-packages\\tensorflow\\python\\checkpoint\\checkpoint.py:2563\u001B[0m, in \u001B[0;36mCheckpoint.restore\u001B[1;34m(self, save_path, options)\u001B[0m\n\u001B[0;32m   2562\u001B[0m \u001B[38;5;28;01mtry\u001B[39;00m:\n\u001B[1;32m-> 2563\u001B[0m   status \u001B[38;5;241m=\u001B[39m \u001B[38;5;28;43mself\u001B[39;49m\u001B[38;5;241;43m.\u001B[39;49m\u001B[43mread\u001B[49m\u001B[43m(\u001B[49m\u001B[43msave_path\u001B[49m\u001B[43m,\u001B[49m\u001B[43m \u001B[49m\u001B[43moptions\u001B[49m\u001B[38;5;241;43m=\u001B[39;49m\u001B[43moptions\u001B[49m\u001B[43m)\u001B[49m\n\u001B[0;32m   2564\u001B[0m   \u001B[38;5;28;01mif\u001B[39;00m context\u001B[38;5;241m.\u001B[39mexecuting_eagerly():\n",
      "File \u001B[1;32m~\\PycharmProjects\\Drone\\.venv\\lib\\site-packages\\tensorflow\\python\\checkpoint\\checkpoint.py:2441\u001B[0m, in \u001B[0;36mCheckpoint.read\u001B[1;34m(self, save_path, options)\u001B[0m\n\u001B[0;32m   2440\u001B[0m options \u001B[38;5;241m=\u001B[39m options \u001B[38;5;129;01mor\u001B[39;00m checkpoint_options\u001B[38;5;241m.\u001B[39mCheckpointOptions()\n\u001B[1;32m-> 2441\u001B[0m result \u001B[38;5;241m=\u001B[39m \u001B[38;5;28;43mself\u001B[39;49m\u001B[38;5;241;43m.\u001B[39;49m\u001B[43m_saver\u001B[49m\u001B[38;5;241;43m.\u001B[39;49m\u001B[43mrestore\u001B[49m\u001B[43m(\u001B[49m\u001B[43msave_path\u001B[49m\u001B[38;5;241;43m=\u001B[39;49m\u001B[43msave_path\u001B[49m\u001B[43m,\u001B[49m\u001B[43m \u001B[49m\u001B[43moptions\u001B[49m\u001B[38;5;241;43m=\u001B[39;49m\u001B[43moptions\u001B[49m\u001B[43m)\u001B[49m\n\u001B[0;32m   2442\u001B[0m metrics\u001B[38;5;241m.\u001B[39mAddCheckpointReadDuration(\n\u001B[0;32m   2443\u001B[0m     api_label\u001B[38;5;241m=\u001B[39m_CHECKPOINT_V2,\n\u001B[0;32m   2444\u001B[0m     microseconds\u001B[38;5;241m=\u001B[39m_get_duration_microseconds(start_time, time\u001B[38;5;241m.\u001B[39mtime()))\n",
      "File \u001B[1;32m~\\PycharmProjects\\Drone\\.venv\\lib\\site-packages\\tensorflow\\python\\checkpoint\\checkpoint.py:1448\u001B[0m, in \u001B[0;36mTrackableSaver.restore\u001B[1;34m(self, save_path, options)\u001B[0m\n\u001B[0;32m   1446\u001B[0m   _ASYNC_CHECKPOINT_THREAD\u001B[38;5;241m.\u001B[39mjoin()\n\u001B[1;32m-> 1448\u001B[0m reader \u001B[38;5;241m=\u001B[39m \u001B[43mpy_checkpoint_reader\u001B[49m\u001B[38;5;241;43m.\u001B[39;49m\u001B[43mNewCheckpointReader\u001B[49m\u001B[43m(\u001B[49m\u001B[43msave_path\u001B[49m\u001B[43m)\u001B[49m\n\u001B[0;32m   1449\u001B[0m graph_building \u001B[38;5;241m=\u001B[39m \u001B[38;5;129;01mnot\u001B[39;00m context\u001B[38;5;241m.\u001B[39mexecuting_eagerly()\n",
      "File \u001B[1;32m~\\PycharmProjects\\Drone\\.venv\\lib\\site-packages\\tensorflow\\python\\training\\py_checkpoint_reader.py:96\u001B[0m, in \u001B[0;36mNewCheckpointReader\u001B[1;34m(filepattern)\u001B[0m\n\u001B[0;32m     95\u001B[0m \u001B[38;5;28;01mexcept\u001B[39;00m \u001B[38;5;167;01mRuntimeError\u001B[39;00m \u001B[38;5;28;01mas\u001B[39;00m e:\n\u001B[1;32m---> 96\u001B[0m   \u001B[43merror_translator\u001B[49m\u001B[43m(\u001B[49m\u001B[43me\u001B[49m\u001B[43m)\u001B[49m\n",
      "File \u001B[1;32m~\\PycharmProjects\\Drone\\.venv\\lib\\site-packages\\tensorflow\\python\\training\\py_checkpoint_reader.py:31\u001B[0m, in \u001B[0;36merror_translator\u001B[1;34m(e)\u001B[0m\n\u001B[0;32m     28\u001B[0m \u001B[38;5;28;01mif\u001B[39;00m \u001B[38;5;124m'\u001B[39m\u001B[38;5;124mnot found in checkpoint\u001B[39m\u001B[38;5;124m'\u001B[39m \u001B[38;5;129;01min\u001B[39;00m error_message \u001B[38;5;129;01mor\u001B[39;00m (\n\u001B[0;32m     29\u001B[0m     \u001B[38;5;124m'\u001B[39m\u001B[38;5;124mFailed to find any \u001B[39m\u001B[38;5;124m'\u001B[39m\n\u001B[0;32m     30\u001B[0m     \u001B[38;5;124m'\u001B[39m\u001B[38;5;124mmatching files for\u001B[39m\u001B[38;5;124m'\u001B[39m) \u001B[38;5;129;01min\u001B[39;00m error_message:\n\u001B[1;32m---> 31\u001B[0m   \u001B[38;5;28;01mraise\u001B[39;00m errors_impl\u001B[38;5;241m.\u001B[39mNotFoundError(\u001B[38;5;28;01mNone\u001B[39;00m, \u001B[38;5;28;01mNone\u001B[39;00m, error_message)\n\u001B[0;32m     32\u001B[0m \u001B[38;5;28;01melif\u001B[39;00m \u001B[38;5;124m'\u001B[39m\u001B[38;5;124mSliced checkpoints are not supported\u001B[39m\u001B[38;5;124m'\u001B[39m \u001B[38;5;129;01min\u001B[39;00m error_message \u001B[38;5;129;01mor\u001B[39;00m (\n\u001B[0;32m     33\u001B[0m     \u001B[38;5;124m'\u001B[39m\u001B[38;5;124mData type \u001B[39m\u001B[38;5;124m'\u001B[39m\n\u001B[0;32m     34\u001B[0m     \u001B[38;5;124m'\u001B[39m\u001B[38;5;124mnot \u001B[39m\u001B[38;5;124m'\u001B[39m\n\u001B[0;32m     35\u001B[0m     \u001B[38;5;124m'\u001B[39m\u001B[38;5;124msupported\u001B[39m\u001B[38;5;124m'\u001B[39m) \u001B[38;5;129;01min\u001B[39;00m error_message:\n",
      "\u001B[1;31mNotFoundError\u001B[0m: Unsuccessful TensorSliceReader constructor: Failed to find any matching files for Tensorflow\\workspace\\models\\robot_ssd_mobnet_big\\ckpt-20",
      "\nDuring handling of the above exception, another exception occurred:\n",
      "\u001B[1;31mNotFoundError\u001B[0m                             Traceback (most recent call last)",
      "Cell \u001B[1;32mIn[28], line 7\u001B[0m\n\u001B[0;32m      5\u001B[0m \u001B[38;5;66;03m# Restore checkpoint\u001B[39;00m\n\u001B[0;32m      6\u001B[0m ckpt \u001B[38;5;241m=\u001B[39m tf\u001B[38;5;241m.\u001B[39mcompat\u001B[38;5;241m.\u001B[39mv2\u001B[38;5;241m.\u001B[39mtrain\u001B[38;5;241m.\u001B[39mCheckpoint(model\u001B[38;5;241m=\u001B[39mdetection_model)\n\u001B[1;32m----> 7\u001B[0m \u001B[43mckpt\u001B[49m\u001B[38;5;241;43m.\u001B[39;49m\u001B[43mrestore\u001B[49m\u001B[43m(\u001B[49m\u001B[43mos\u001B[49m\u001B[38;5;241;43m.\u001B[39;49m\u001B[43mpath\u001B[49m\u001B[38;5;241;43m.\u001B[39;49m\u001B[43mjoin\u001B[49m\u001B[43m(\u001B[49m\u001B[43mpaths\u001B[49m\u001B[43m[\u001B[49m\u001B[38;5;124;43m'\u001B[39;49m\u001B[38;5;124;43mCHECKPOINT_PATH\u001B[39;49m\u001B[38;5;124;43m'\u001B[39;49m\u001B[43m]\u001B[49m\u001B[43m,\u001B[49m\u001B[43m \u001B[49m\u001B[38;5;124;43m'\u001B[39;49m\u001B[38;5;124;43mckpt-20\u001B[39;49m\u001B[38;5;124;43m'\u001B[39;49m\u001B[43m)\u001B[49m\u001B[43m)\u001B[49m\u001B[38;5;241m.\u001B[39mexpect_partial()\n\u001B[0;32m      9\u001B[0m \u001B[38;5;129m@tf\u001B[39m\u001B[38;5;241m.\u001B[39mfunction\n\u001B[0;32m     10\u001B[0m \u001B[38;5;28;01mdef\u001B[39;00m \u001B[38;5;21mdetect_fn\u001B[39m(image):\n\u001B[0;32m     11\u001B[0m     image, shapes \u001B[38;5;241m=\u001B[39m detection_model\u001B[38;5;241m.\u001B[39mpreprocess(image)\n",
      "File \u001B[1;32m~\\PycharmProjects\\Drone\\.venv\\lib\\site-packages\\tensorflow\\python\\checkpoint\\checkpoint.py:2567\u001B[0m, in \u001B[0;36mCheckpoint.restore\u001B[1;34m(self, save_path, options)\u001B[0m\n\u001B[0;32m   2565\u001B[0m     context\u001B[38;5;241m.\u001B[39masync_wait()  \u001B[38;5;66;03m# Ensure restore operations have completed.\u001B[39;00m\n\u001B[0;32m   2566\u001B[0m \u001B[38;5;28;01mexcept\u001B[39;00m errors_impl\u001B[38;5;241m.\u001B[39mNotFoundError \u001B[38;5;28;01mas\u001B[39;00m e:\n\u001B[1;32m-> 2567\u001B[0m   \u001B[38;5;28;01mraise\u001B[39;00m errors_impl\u001B[38;5;241m.\u001B[39mNotFoundError(\n\u001B[0;32m   2568\u001B[0m       \u001B[38;5;28;01mNone\u001B[39;00m, \u001B[38;5;28;01mNone\u001B[39;00m,\n\u001B[0;32m   2569\u001B[0m       \u001B[38;5;124mf\u001B[39m\u001B[38;5;124m\"\u001B[39m\u001B[38;5;124mError when restoring from checkpoint or SavedModel at \u001B[39m\u001B[38;5;124m\"\u001B[39m\n\u001B[0;32m   2570\u001B[0m       \u001B[38;5;124mf\u001B[39m\u001B[38;5;124m\"\u001B[39m\u001B[38;5;132;01m{\u001B[39;00morig_save_path\u001B[38;5;132;01m}\u001B[39;00m\u001B[38;5;124m: \u001B[39m\u001B[38;5;132;01m{\u001B[39;00me\u001B[38;5;241m.\u001B[39mmessage\u001B[38;5;132;01m}\u001B[39;00m\u001B[38;5;124m\"\u001B[39m\n\u001B[0;32m   2571\u001B[0m       \u001B[38;5;124mf\u001B[39m\u001B[38;5;124m\"\u001B[39m\u001B[38;5;130;01m\\n\u001B[39;00m\u001B[38;5;124mPlease double-check that the path is correct. You may be missing \u001B[39m\u001B[38;5;124m\"\u001B[39m\n\u001B[0;32m   2572\u001B[0m       \u001B[38;5;124m\"\u001B[39m\u001B[38;5;124mthe checkpoint suffix (e.g. the \u001B[39m\u001B[38;5;124m'\u001B[39m\u001B[38;5;124m-1\u001B[39m\u001B[38;5;124m'\u001B[39m\u001B[38;5;124m in \u001B[39m\u001B[38;5;124m'\u001B[39m\u001B[38;5;124mpath/to/ckpt-1\u001B[39m\u001B[38;5;124m'\u001B[39m\u001B[38;5;124m).\u001B[39m\u001B[38;5;124m\"\u001B[39m)\n\u001B[0;32m   2573\u001B[0m \u001B[38;5;66;03m# Create the save counter now so it gets initialized with other variables\u001B[39;00m\n\u001B[0;32m   2574\u001B[0m \u001B[38;5;66;03m# when graph building. Creating it earlier would lead to errors when using,\u001B[39;00m\n\u001B[0;32m   2575\u001B[0m \u001B[38;5;66;03m# say, train.Saver() to save the model before initializing it.\u001B[39;00m\n\u001B[0;32m   2576\u001B[0m \u001B[38;5;28mself\u001B[39m\u001B[38;5;241m.\u001B[39m_maybe_create_save_counter()\n",
      "\u001B[1;31mNotFoundError\u001B[0m: Error when restoring from checkpoint or SavedModel at Tensorflow\\workspace\\models\\robot_ssd_mobnet_big\\ckpt-20: Unsuccessful TensorSliceReader constructor: Failed to find any matching files for Tensorflow\\workspace\\models\\robot_ssd_mobnet_big\\ckpt-20\nPlease double-check that the path is correct. You may be missing the checkpoint suffix (e.g. the '-1' in 'path/to/ckpt-1')."
     ]
    }
   ],
   "execution_count": 28
  },
  {
   "cell_type": "markdown",
   "metadata": {
    "id": "0EmsmbBZpfDI"
   },
   "source": [
    "# 9. Detect from an Image"
   ]
  },
  {
   "cell_type": "code",
   "metadata": {
    "id": "Y_MKiuZ4pfDI"
   },
   "source": [
    "import cv2 \n",
    "import numpy as np\n",
    "from matplotlib import pyplot as plt\n",
    "%matplotlib inline"
   ],
   "outputs": [],
   "execution_count": null
  },
  {
   "cell_type": "code",
   "metadata": {
    "id": "cBDbIhNapfDI"
   },
   "source": [
    "category_index = label_map_util.create_category_index_from_labelmap(files['LABELMAP'])"
   ],
   "outputs": [],
   "execution_count": null
  },
  {
   "cell_type": "code",
   "metadata": {
    "id": "Lx3crOhOzITB"
   },
   "source": [
    "IMAGE_PATH = os.path.join(paths['IMAGE_PATH'], 'test', 'livelong.02533422-940e-11eb-9dbd-5cf3709bbcc6.jpg')"
   ],
   "outputs": [],
   "execution_count": null
  },
  {
   "cell_type": "code",
   "metadata": {
    "colab": {
     "base_uri": "https://localhost:8080/",
     "height": 269
    },
    "id": "Tpzn1SMry1yK",
    "outputId": "c392a2c5-10fe-4fc4-9998-a1d4c7db2bd3"
   },
   "source": [
    "img = cv2.imread(IMAGE_PATH)\n",
    "image_np = np.array(img)\n",
    "\n",
    "input_tensor = tf.convert_to_tensor(np.expand_dims(image_np, 0), dtype=tf.float32)\n",
    "detections = detect_fn(input_tensor)\n",
    "\n",
    "num_detections = int(detections.pop('num_detections'))\n",
    "detections = {key: value[0, :num_detections].numpy()\n",
    "              for key, value in detections.items()}\n",
    "detections['num_detections'] = num_detections\n",
    "\n",
    "# detection_classes should be ints.\n",
    "detections['detection_classes'] = detections['detection_classes'].astype(np.int64)\n",
    "\n",
    "label_id_offset = 1\n",
    "image_np_with_detections = image_np.copy()\n",
    "\n",
    "viz_utils.visualize_boxes_and_labels_on_image_array(\n",
    "            image_np_with_detections,\n",
    "            detections['detection_boxes'],\n",
    "            detections['detection_classes']+label_id_offset,\n",
    "            detections['detection_scores'],\n",
    "            category_index,\n",
    "            use_normalized_coordinates=True,\n",
    "            max_boxes_to_draw=5,\n",
    "            min_score_thresh=.8,\n",
    "            agnostic_mode=False)\n",
    "\n",
    "plt.imshow(cv2.cvtColor(image_np_with_detections, cv2.COLOR_BGR2RGB))\n",
    "plt.show()"
   ],
   "outputs": [],
   "execution_count": null
  },
  {
   "cell_type": "markdown",
   "metadata": {
    "id": "IsNAaYAo0WVL"
   },
   "source": [
    "# 10. Real Time Detections from your Webcam"
   ]
  },
  {
   "cell_type": "code",
   "metadata": {
    "id": "o_grs6OGpfDJ"
   },
   "source": [
    "cap = cv2.VideoCapture(0)\n",
    "width = int(cap.get(cv2.CAP_PROP_FRAME_WIDTH))\n",
    "height = int(cap.get(cv2.CAP_PROP_FRAME_HEIGHT))\n",
    "\n",
    "while cap.isOpened(): \n",
    "    ret, frame = cap.read()\n",
    "    image_np = np.array(frame)\n",
    "    \n",
    "    input_tensor = tf.convert_to_tensor(np.expand_dims(image_np, 0), dtype=tf.float32)\n",
    "    detections = detect_fn(input_tensor)\n",
    "    \n",
    "    num_detections = int(detections.pop('num_detections'))\n",
    "    detections = {key: value[0, :num_detections].numpy()\n",
    "                  for key, value in detections.items()}\n",
    "    detections['num_detections'] = num_detections\n",
    "\n",
    "    # detection_classes should be ints.\n",
    "    detections['detection_classes'] = detections['detection_classes'].astype(np.int64)\n",
    "\n",
    "    label_id_offset = 1\n",
    "    image_np_with_detections = image_np.copy()\n",
    "\n",
    "    viz_utils.visualize_boxes_and_labels_on_image_array(\n",
    "                image_np_with_detections,\n",
    "                detections['detection_boxes'],\n",
    "                detections['detection_classes']+label_id_offset,\n",
    "                detections['detection_scores'],\n",
    "                category_index,\n",
    "                use_normalized_coordinates=True,\n",
    "                max_boxes_to_draw=5,\n",
    "                min_score_thresh=.8,\n",
    "                agnostic_mode=False)\n",
    "\n",
    "    cv2.imshow('object detection',  cv2.resize(image_np_with_detections, (800, 600)))\n",
    "    \n",
    "    if cv2.waitKey(10) & 0xFF == ord('q'):\n",
    "        cap.release()\n",
    "        cv2.destroyAllWindows()\n",
    "        break"
   ],
   "outputs": [],
   "execution_count": null
  },
  {
   "cell_type": "markdown",
   "metadata": {
    "id": "rzlM4jt0pfDJ"
   },
   "source": [
    "# 10. Freezing the Graph"
   ]
  },
  {
   "cell_type": "code",
   "metadata": {
    "id": "n4olHB2npfDJ",
    "ExecuteTime": {
     "end_time": "2024-11-13T23:38:58.439279Z",
     "start_time": "2024-11-13T23:38:58.422837Z"
    }
   },
   "source": [
    "FREEZE_SCRIPT = os.path.join(paths['APIMODEL_PATH'], 'research', 'object_detection', 'exporter_main_v2.py ')"
   ],
   "outputs": [],
   "execution_count": 32
  },
  {
   "cell_type": "code",
   "metadata": {
    "id": "0AjO93QDpfDJ",
    "ExecuteTime": {
     "end_time": "2024-11-13T23:38:59.541751Z",
     "start_time": "2024-11-13T23:38:59.529753Z"
    }
   },
   "source": [
    "command = \"python {} --input_type=image_tensor --pipeline_config_path={} --trained_checkpoint_dir={} --output_directory={}\".format(FREEZE_SCRIPT ,files['PIPELINE_CONFIG'], paths['CHECKPOINT_PATH'], paths['OUTPUT_PATH'])"
   ],
   "outputs": [],
   "execution_count": 33
  },
  {
   "cell_type": "code",
   "metadata": {
    "colab": {
     "base_uri": "https://localhost:8080/"
    },
    "id": "1Sw1ULgHpfDJ",
    "outputId": "6fd441e1-9fc9-4889-d072-3395c21e40b6",
    "ExecuteTime": {
     "end_time": "2024-11-13T23:39:32.002425Z",
     "start_time": "2024-11-13T23:39:04.561061Z"
    }
   },
   "source": [
    "!{command}"
   ],
   "outputs": [
    {
     "name": "stderr",
     "output_type": "stream",
     "text": [
      "2024-11-13 15:39:07.474703: I tensorflow/core/platform/cpu_feature_guard.cc:193] This TensorFlow binary is optimized with oneAPI Deep Neural Network Library (oneDNN) to use the following CPU instructions in performance-critical operations:  AVX AVX2\n",
      "To enable them in other operations, rebuild TensorFlow with the appropriate compiler flags.\n",
      "2024-11-13 15:39:07.549951: I tensorflow/core/common_runtime/gpu/gpu_device.cc:1616] Created device /job:localhost/replica:0/task:0/device:GPU:0 with 5520 MB memory:  -> device: 0, name: NVIDIA GeForce RTX 4070 Laptop GPU, pci bus id: 0000:01:00.0, compute capability: 8.9\n",
      "WARNING:tensorflow:From C:\\Users\\akash\\PycharmProjects\\Drone\\.venv\\lib\\site-packages\\tensorflow\\python\\autograph\\impl\\api.py:458: calling map_fn_v2 (from tensorflow.python.ops.map_fn) with back_prop=False is deprecated and will be removed in a future version.\n",
      "Instructions for updating:\n",
      "back_prop=False is deprecated. Consider using tf.stop_gradient instead.\n",
      "Instead of:\n",
      "results = tf.map_fn(fn, elems, back_prop=False)\n",
      "Use:\n",
      "results = tf.nest.map_structure(tf.stop_gradient, tf.map_fn(fn, elems))\n",
      "W1113 15:39:07.861842 21824 deprecation.py:623] From C:\\Users\\akash\\PycharmProjects\\Drone\\.venv\\lib\\site-packages\\tensorflow\\python\\autograph\\impl\\api.py:458: calling map_fn_v2 (from tensorflow.python.ops.map_fn) with back_prop=False is deprecated and will be removed in a future version.\n",
      "Instructions for updating:\n",
      "back_prop=False is deprecated. Consider using tf.stop_gradient instead.\n",
      "Instead of:\n",
      "results = tf.map_fn(fn, elems, back_prop=False)\n",
      "Use:\n",
      "results = tf.nest.map_structure(tf.stop_gradient, tf.map_fn(fn, elems))\n",
      "I1113 15:39:10.023096 21824 api.py:459] feature_map_spatial_dims: [(80, 80), (40, 40), (20, 20), (10, 10), (5, 5)]\n",
      "I1113 15:39:14.643866 21824 api.py:459] feature_map_spatial_dims: [(80, 80), (40, 40), (20, 20), (10, 10), (5, 5)]\n",
      "I1113 15:39:16.609673 21824 api.py:459] feature_map_spatial_dims: [(80, 80), (40, 40), (20, 20), (10, 10), (5, 5)]\n",
      "WARNING:tensorflow:Skipping full serialization of Keras layer <object_detection.meta_architectures.ssd_meta_arch.SSDMetaArch object at 0x000002922FDF13A0>, because it is not built.\n",
      "W1113 15:39:17.876886 21824 save_impl.py:66] Skipping full serialization of Keras layer <object_detection.meta_architectures.ssd_meta_arch.SSDMetaArch object at 0x000002922FDF13A0>, because it is not built.\n",
      "WARNING:tensorflow:Skipping full serialization of Keras layer <keras.layers.convolutional.separable_conv2d.SeparableConv2D object at 0x00000292306E1160>, because it is not built.\n",
      "W1113 15:39:18.013703 21824 save_impl.py:66] Skipping full serialization of Keras layer <keras.layers.convolutional.separable_conv2d.SeparableConv2D object at 0x00000292306E1160>, because it is not built.\n",
      "WARNING:tensorflow:Skipping full serialization of Keras layer <object_detection.core.freezable_batch_norm.FreezableBatchNorm object at 0x00000292306C2D90>, because it is not built.\n",
      "W1113 15:39:18.013703 21824 save_impl.py:66] Skipping full serialization of Keras layer <object_detection.core.freezable_batch_norm.FreezableBatchNorm object at 0x00000292306C2D90>, because it is not built.\n",
      "WARNING:tensorflow:Skipping full serialization of Keras layer <keras.layers.core.lambda_layer.Lambda object at 0x00000292306C29D0>, because it is not built.\n",
      "W1113 15:39:18.013703 21824 save_impl.py:66] Skipping full serialization of Keras layer <keras.layers.core.lambda_layer.Lambda object at 0x00000292306C29D0>, because it is not built.\n",
      "WARNING:tensorflow:Skipping full serialization of Keras layer <keras.layers.convolutional.separable_conv2d.SeparableConv2D object at 0x00000292306C20D0>, because it is not built.\n",
      "W1113 15:39:18.013703 21824 save_impl.py:66] Skipping full serialization of Keras layer <keras.layers.convolutional.separable_conv2d.SeparableConv2D object at 0x00000292306C20D0>, because it is not built.\n",
      "WARNING:tensorflow:Skipping full serialization of Keras layer <object_detection.core.freezable_batch_norm.FreezableBatchNorm object at 0x00000292306C2490>, because it is not built.\n",
      "W1113 15:39:18.013703 21824 save_impl.py:66] Skipping full serialization of Keras layer <object_detection.core.freezable_batch_norm.FreezableBatchNorm object at 0x00000292306C2490>, because it is not built.\n",
      "WARNING:tensorflow:Skipping full serialization of Keras layer <keras.layers.core.lambda_layer.Lambda object at 0x000002927E8F34C0>, because it is not built.\n",
      "W1113 15:39:18.013703 21824 save_impl.py:66] Skipping full serialization of Keras layer <keras.layers.core.lambda_layer.Lambda object at 0x000002927E8F34C0>, because it is not built.\n",
      "WARNING:tensorflow:Skipping full serialization of Keras layer <keras.layers.convolutional.separable_conv2d.SeparableConv2D object at 0x00000292307D5D60>, because it is not built.\n",
      "W1113 15:39:18.013703 21824 save_impl.py:66] Skipping full serialization of Keras layer <keras.layers.convolutional.separable_conv2d.SeparableConv2D object at 0x00000292307D5D60>, because it is not built.\n",
      "WARNING:tensorflow:Skipping full serialization of Keras layer <object_detection.core.freezable_batch_norm.FreezableBatchNorm object at 0x00000292307D5DC0>, because it is not built.\n",
      "W1113 15:39:18.013703 21824 save_impl.py:66] Skipping full serialization of Keras layer <object_detection.core.freezable_batch_norm.FreezableBatchNorm object at 0x00000292307D5DC0>, because it is not built.\n",
      "WARNING:tensorflow:Skipping full serialization of Keras layer <keras.layers.core.lambda_layer.Lambda object at 0x00000292303F8E50>, because it is not built.\n",
      "W1113 15:39:18.013703 21824 save_impl.py:66] Skipping full serialization of Keras layer <keras.layers.core.lambda_layer.Lambda object at 0x00000292303F8E50>, because it is not built.\n",
      "WARNING:tensorflow:Skipping full serialization of Keras layer <keras.layers.convolutional.separable_conv2d.SeparableConv2D object at 0x00000292304BA2B0>, because it is not built.\n",
      "W1113 15:39:18.013703 21824 save_impl.py:66] Skipping full serialization of Keras layer <keras.layers.convolutional.separable_conv2d.SeparableConv2D object at 0x00000292304BA2B0>, because it is not built.\n",
      "WARNING:tensorflow:Skipping full serialization of Keras layer <object_detection.core.freezable_batch_norm.FreezableBatchNorm object at 0x00000292304BA280>, because it is not built.\n",
      "W1113 15:39:18.013703 21824 save_impl.py:66] Skipping full serialization of Keras layer <object_detection.core.freezable_batch_norm.FreezableBatchNorm object at 0x00000292304BA280>, because it is not built.\n",
      "WARNING:tensorflow:Skipping full serialization of Keras layer <keras.layers.core.lambda_layer.Lambda object at 0x00000292304BAE80>, because it is not built.\n",
      "W1113 15:39:18.013703 21824 save_impl.py:66] Skipping full serialization of Keras layer <keras.layers.core.lambda_layer.Lambda object at 0x00000292304BAE80>, because it is not built.\n",
      "WARNING:tensorflow:Skipping full serialization of Keras layer <object_detection.core.freezable_batch_norm.FreezableBatchNorm object at 0x00000292306BBBB0>, because it is not built.\n",
      "W1113 15:39:18.013703 21824 save_impl.py:66] Skipping full serialization of Keras layer <object_detection.core.freezable_batch_norm.FreezableBatchNorm object at 0x00000292306BBBB0>, because it is not built.\n",
      "WARNING:tensorflow:Skipping full serialization of Keras layer <keras.layers.core.lambda_layer.Lambda object at 0x00000292306BB640>, because it is not built.\n",
      "W1113 15:39:18.013703 21824 save_impl.py:66] Skipping full serialization of Keras layer <keras.layers.core.lambda_layer.Lambda object at 0x00000292306BB640>, because it is not built.\n",
      "WARNING:tensorflow:Skipping full serialization of Keras layer <object_detection.core.freezable_batch_norm.FreezableBatchNorm object at 0x000002923094F160>, because it is not built.\n",
      "W1113 15:39:18.013703 21824 save_impl.py:66] Skipping full serialization of Keras layer <object_detection.core.freezable_batch_norm.FreezableBatchNorm object at 0x000002923094F160>, because it is not built.\n",
      "WARNING:tensorflow:Skipping full serialization of Keras layer <keras.layers.core.lambda_layer.Lambda object at 0x000002923094F250>, because it is not built.\n",
      "W1113 15:39:18.013703 21824 save_impl.py:66] Skipping full serialization of Keras layer <keras.layers.core.lambda_layer.Lambda object at 0x000002923094F250>, because it is not built.\n",
      "WARNING:tensorflow:Skipping full serialization of Keras layer <object_detection.core.freezable_batch_norm.FreezableBatchNorm object at 0x00000292307AEB20>, because it is not built.\n",
      "W1113 15:39:18.013703 21824 save_impl.py:66] Skipping full serialization of Keras layer <object_detection.core.freezable_batch_norm.FreezableBatchNorm object at 0x00000292307AEB20>, because it is not built.\n",
      "WARNING:tensorflow:Skipping full serialization of Keras layer <keras.layers.core.lambda_layer.Lambda object at 0x000002923097D310>, because it is not built.\n",
      "W1113 15:39:18.013703 21824 save_impl.py:66] Skipping full serialization of Keras layer <keras.layers.core.lambda_layer.Lambda object at 0x000002923097D310>, because it is not built.\n",
      "WARNING:tensorflow:Skipping full serialization of Keras layer <object_detection.core.freezable_batch_norm.FreezableBatchNorm object at 0x00000292302F89D0>, because it is not built.\n",
      "W1113 15:39:18.013703 21824 save_impl.py:66] Skipping full serialization of Keras layer <object_detection.core.freezable_batch_norm.FreezableBatchNorm object at 0x00000292302F89D0>, because it is not built.\n",
      "WARNING:tensorflow:Skipping full serialization of Keras layer <keras.layers.core.lambda_layer.Lambda object at 0x0000029230868580>, because it is not built.\n",
      "W1113 15:39:18.013703 21824 save_impl.py:66] Skipping full serialization of Keras layer <keras.layers.core.lambda_layer.Lambda object at 0x0000029230868580>, because it is not built.\n",
      "WARNING:tensorflow:Skipping full serialization of Keras layer <object_detection.core.freezable_batch_norm.FreezableBatchNorm object at 0x00000292304FF5E0>, because it is not built.\n",
      "W1113 15:39:18.013703 21824 save_impl.py:66] Skipping full serialization of Keras layer <object_detection.core.freezable_batch_norm.FreezableBatchNorm object at 0x00000292304FF5E0>, because it is not built.\n",
      "WARNING:tensorflow:Skipping full serialization of Keras layer <keras.layers.core.lambda_layer.Lambda object at 0x00000292300DCFA0>, because it is not built.\n",
      "W1113 15:39:18.014702 21824 save_impl.py:66] Skipping full serialization of Keras layer <keras.layers.core.lambda_layer.Lambda object at 0x00000292300DCFA0>, because it is not built.\n",
      "WARNING:tensorflow:Skipping full serialization of Keras layer <object_detection.core.freezable_batch_norm.FreezableBatchNorm object at 0x00000292306D5F10>, because it is not built.\n",
      "W1113 15:39:18.014702 21824 save_impl.py:66] Skipping full serialization of Keras layer <object_detection.core.freezable_batch_norm.FreezableBatchNorm object at 0x00000292306D5F10>, because it is not built.\n",
      "WARNING:tensorflow:Skipping full serialization of Keras layer <keras.layers.core.lambda_layer.Lambda object at 0x0000029230864A30>, because it is not built.\n",
      "W1113 15:39:18.014702 21824 save_impl.py:66] Skipping full serialization of Keras layer <keras.layers.core.lambda_layer.Lambda object at 0x0000029230864A30>, because it is not built.\n",
      "WARNING:tensorflow:Skipping full serialization of Keras layer <object_detection.core.freezable_batch_norm.FreezableBatchNorm object at 0x0000029230487F70>, because it is not built.\n",
      "W1113 15:39:18.014702 21824 save_impl.py:66] Skipping full serialization of Keras layer <object_detection.core.freezable_batch_norm.FreezableBatchNorm object at 0x0000029230487F70>, because it is not built.\n",
      "WARNING:tensorflow:Skipping full serialization of Keras layer <keras.layers.core.lambda_layer.Lambda object at 0x0000029230487BE0>, because it is not built.\n",
      "W1113 15:39:18.014702 21824 save_impl.py:66] Skipping full serialization of Keras layer <keras.layers.core.lambda_layer.Lambda object at 0x0000029230487BE0>, because it is not built.\n",
      "WARNING:tensorflow:Skipping full serialization of Keras layer <object_detection.core.freezable_batch_norm.FreezableBatchNorm object at 0x0000029230784130>, because it is not built.\n",
      "W1113 15:39:18.014702 21824 save_impl.py:66] Skipping full serialization of Keras layer <object_detection.core.freezable_batch_norm.FreezableBatchNorm object at 0x0000029230784130>, because it is not built.\n",
      "WARNING:tensorflow:Skipping full serialization of Keras layer <keras.layers.core.lambda_layer.Lambda object at 0x000002927E8DA2B0>, because it is not built.\n",
      "W1113 15:39:18.014702 21824 save_impl.py:66] Skipping full serialization of Keras layer <keras.layers.core.lambda_layer.Lambda object at 0x000002927E8DA2B0>, because it is not built.\n",
      "WARNING:tensorflow:Skipping full serialization of Keras layer <object_detection.core.freezable_batch_norm.FreezableBatchNorm object at 0x00000292303715B0>, because it is not built.\n",
      "W1113 15:39:18.014702 21824 save_impl.py:66] Skipping full serialization of Keras layer <object_detection.core.freezable_batch_norm.FreezableBatchNorm object at 0x00000292303715B0>, because it is not built.\n",
      "WARNING:tensorflow:Skipping full serialization of Keras layer <keras.layers.core.lambda_layer.Lambda object at 0x00000292302C2880>, because it is not built.\n",
      "W1113 15:39:18.014702 21824 save_impl.py:66] Skipping full serialization of Keras layer <keras.layers.core.lambda_layer.Lambda object at 0x00000292302C2880>, because it is not built.\n",
      "WARNING:tensorflow:Skipping full serialization of Keras layer <object_detection.core.freezable_batch_norm.FreezableBatchNorm object at 0x0000029230095790>, because it is not built.\n",
      "W1113 15:39:18.014702 21824 save_impl.py:66] Skipping full serialization of Keras layer <object_detection.core.freezable_batch_norm.FreezableBatchNorm object at 0x0000029230095790>, because it is not built.\n",
      "WARNING:tensorflow:Skipping full serialization of Keras layer <keras.layers.core.lambda_layer.Lambda object at 0x0000029230095430>, because it is not built.\n",
      "W1113 15:39:18.014702 21824 save_impl.py:66] Skipping full serialization of Keras layer <keras.layers.core.lambda_layer.Lambda object at 0x0000029230095430>, because it is not built.\n",
      "WARNING:tensorflow:Skipping full serialization of Keras layer <object_detection.core.freezable_batch_norm.FreezableBatchNorm object at 0x0000029230095CD0>, because it is not built.\n",
      "W1113 15:39:18.014702 21824 save_impl.py:66] Skipping full serialization of Keras layer <object_detection.core.freezable_batch_norm.FreezableBatchNorm object at 0x0000029230095CD0>, because it is not built.\n",
      "WARNING:tensorflow:Skipping full serialization of Keras layer <keras.layers.core.lambda_layer.Lambda object at 0x00000292300955B0>, because it is not built.\n",
      "W1113 15:39:18.014702 21824 save_impl.py:66] Skipping full serialization of Keras layer <keras.layers.core.lambda_layer.Lambda object at 0x00000292300955B0>, because it is not built.\n",
      "WARNING:tensorflow:Skipping full serialization of Keras layer <object_detection.core.freezable_batch_norm.FreezableBatchNorm object at 0x00000292306EA640>, because it is not built.\n",
      "W1113 15:39:18.014702 21824 save_impl.py:66] Skipping full serialization of Keras layer <object_detection.core.freezable_batch_norm.FreezableBatchNorm object at 0x00000292306EA640>, because it is not built.\n",
      "WARNING:tensorflow:Skipping full serialization of Keras layer <keras.layers.core.lambda_layer.Lambda object at 0x00000292306EA1F0>, because it is not built.\n",
      "W1113 15:39:18.014702 21824 save_impl.py:66] Skipping full serialization of Keras layer <keras.layers.core.lambda_layer.Lambda object at 0x00000292306EA1F0>, because it is not built.\n",
      "WARNING:tensorflow:Skipping full serialization of Keras layer <object_detection.core.freezable_batch_norm.FreezableBatchNorm object at 0x0000029230515940>, because it is not built.\n",
      "W1113 15:39:18.014702 21824 save_impl.py:66] Skipping full serialization of Keras layer <object_detection.core.freezable_batch_norm.FreezableBatchNorm object at 0x0000029230515940>, because it is not built.\n",
      "WARNING:tensorflow:Skipping full serialization of Keras layer <keras.layers.core.lambda_layer.Lambda object at 0x0000029230515DF0>, because it is not built.\n",
      "W1113 15:39:18.014702 21824 save_impl.py:66] Skipping full serialization of Keras layer <keras.layers.core.lambda_layer.Lambda object at 0x0000029230515DF0>, because it is not built.\n",
      "WARNING:tensorflow:Skipping full serialization of Keras layer <object_detection.core.freezable_batch_norm.FreezableBatchNorm object at 0x00000292306FA850>, because it is not built.\n",
      "W1113 15:39:18.014702 21824 save_impl.py:66] Skipping full serialization of Keras layer <object_detection.core.freezable_batch_norm.FreezableBatchNorm object at 0x00000292306FA850>, because it is not built.\n",
      "WARNING:tensorflow:Skipping full serialization of Keras layer <keras.layers.core.lambda_layer.Lambda object at 0x00000292306FA5B0>, because it is not built.\n",
      "W1113 15:39:18.014702 21824 save_impl.py:66] Skipping full serialization of Keras layer <keras.layers.core.lambda_layer.Lambda object at 0x00000292306FA5B0>, because it is not built.\n",
      "WARNING:tensorflow:Skipping full serialization of Keras layer <object_detection.core.freezable_batch_norm.FreezableBatchNorm object at 0x00000292300F6F70>, because it is not built.\n",
      "W1113 15:39:18.014702 21824 save_impl.py:66] Skipping full serialization of Keras layer <object_detection.core.freezable_batch_norm.FreezableBatchNorm object at 0x00000292300F6F70>, because it is not built.\n",
      "WARNING:tensorflow:Skipping full serialization of Keras layer <keras.layers.core.lambda_layer.Lambda object at 0x00000292300F65B0>, because it is not built.\n",
      "W1113 15:39:18.014702 21824 save_impl.py:66] Skipping full serialization of Keras layer <keras.layers.core.lambda_layer.Lambda object at 0x00000292300F65B0>, because it is not built.\n",
      "WARNING:tensorflow:Skipping full serialization of Keras layer <object_detection.core.freezable_batch_norm.FreezableBatchNorm object at 0x000002923009DCD0>, because it is not built.\n",
      "W1113 15:39:18.014702 21824 save_impl.py:66] Skipping full serialization of Keras layer <object_detection.core.freezable_batch_norm.FreezableBatchNorm object at 0x000002923009DCD0>, because it is not built.\n",
      "WARNING:tensorflow:Skipping full serialization of Keras layer <keras.layers.core.lambda_layer.Lambda object at 0x000002923009DF10>, because it is not built.\n",
      "W1113 15:39:18.014702 21824 save_impl.py:66] Skipping full serialization of Keras layer <keras.layers.core.lambda_layer.Lambda object at 0x000002923009DF10>, because it is not built.\n",
      "W1113 15:39:27.240865 21824 save.py:269] Found untraced functions such as WeightSharedConvolutionalBoxPredictor_layer_call_fn, WeightSharedConvolutionalBoxPredictor_layer_call_and_return_conditional_losses, WeightSharedConvolutionalBoxHead_layer_call_fn, WeightSharedConvolutionalBoxHead_layer_call_and_return_conditional_losses, WeightSharedConvolutionalClassHead_layer_call_fn while saving (showing 5 of 173). These functions will not be directly callable after loading.\n",
      "INFO:tensorflow:Assets written to: Tensorflow\\workspace\\models\\robot_ssd_mobnet_big\\export\\saved_model\\assets\n",
      "I1113 15:39:30.422996 21824 builder_impl.py:779] Assets written to: Tensorflow\\workspace\\models\\robot_ssd_mobnet_big\\export\\saved_model\\assets\n",
      "INFO:tensorflow:Writing pipeline config file to Tensorflow\\workspace\\models\\robot_ssd_mobnet_big\\export\\pipeline.config\n",
      "I1113 15:39:30.982101 21824 config_util.py:253] Writing pipeline config file to Tensorflow\\workspace\\models\\robot_ssd_mobnet_big\\export\\pipeline.config\n"
     ]
    }
   ],
   "execution_count": 34
  },
  {
   "cell_type": "markdown",
   "metadata": {
    "id": "wTPmdqaXpfDK"
   },
   "source": [
    "# 11. Conversion to TFJS"
   ]
  },
  {
   "cell_type": "code",
   "metadata": {
    "colab": {
     "base_uri": "https://localhost:8080/"
    },
    "id": "gZ6UzY_fpfDK",
    "outputId": "0c84722e-1c2b-4002-d857-80827ade828a",
    "scrolled": true
   },
   "source": [
    "!pip install tensorflowjs"
   ],
   "outputs": [],
   "execution_count": null
  },
  {
   "cell_type": "code",
   "metadata": {
    "id": "0oxbVynHpfDK"
   },
   "source": [
    "command = \"tensorflowjs_converter --input_format=tf_saved_model --output_node_names='detection_boxes,detection_classes,detection_features,detection_multiclass_scores,detection_scores,num_detections,raw_detection_boxes,raw_detection_scores' --output_format=tfjs_graph_model --signature_name=serving_default {} {}\".format(os.path.join(paths['OUTPUT_PATH'], 'saved_model'), paths['TFJS_PATH'])"
   ],
   "outputs": [],
   "execution_count": null
  },
  {
   "cell_type": "code",
   "metadata": {
    "colab": {
     "base_uri": "https://localhost:8080/"
    },
    "id": "DB2AGNmJpfDK",
    "outputId": "fbc9f747-f511-47e8-df8f-5ea65cef0374"
   },
   "source": [
    "print(command)"
   ],
   "outputs": [],
   "execution_count": null
  },
  {
   "cell_type": "code",
   "metadata": {
    "colab": {
     "base_uri": "https://localhost:8080/"
    },
    "id": "K7rfT4-hpfDK",
    "outputId": "532707fd-6feb-4bc6-84a3-325b5d16303c"
   },
   "source": [
    "!{command}"
   ],
   "outputs": [],
   "execution_count": null
  },
  {
   "cell_type": "code",
   "metadata": {
    "id": "o8_hm-itpfDK"
   },
   "source": [
    "# Test Code: https://github.com/nicknochnack/RealTimeSignLanguageDetectionwithTFJS"
   ],
   "outputs": [],
   "execution_count": null
  },
  {
   "cell_type": "markdown",
   "metadata": {
    "id": "VtUw73FHpfDK"
   },
   "source": [
    "# 12. Conversion to TFLite"
   ]
  },
  {
   "cell_type": "code",
   "metadata": {
    "id": "XviMtewLpfDK"
   },
   "source": [
    "TFLITE_SCRIPT = os.path.join(paths['APIMODEL_PATH'], 'research', 'object_detection', 'export_tflite_graph_tf2.py ')"
   ],
   "outputs": [],
   "execution_count": null
  },
  {
   "cell_type": "code",
   "metadata": {
    "id": "us86cjC4pfDL"
   },
   "source": [
    "command = \"python {} --pipeline_config_path={} --trained_checkpoint_dir={} --output_directory={}\".format(TFLITE_SCRIPT ,files['PIPELINE_CONFIG'], paths['CHECKPOINT_PATH'], paths['TFLITE_PATH'])"
   ],
   "outputs": [],
   "execution_count": null
  },
  {
   "cell_type": "code",
   "metadata": {
    "colab": {
     "base_uri": "https://localhost:8080/"
    },
    "id": "n1r5YO3rpfDL",
    "outputId": "5fcdf7a4-eee2-4365-f1ca-1751968379ea"
   },
   "source": [
    "print(command)"
   ],
   "outputs": [],
   "execution_count": null
  },
  {
   "cell_type": "code",
   "metadata": {
    "colab": {
     "base_uri": "https://localhost:8080/"
    },
    "id": "I-xWpHN8pfDL",
    "outputId": "7f6bacd8-d077-43b5-c131-5b081fba24a4"
   },
   "source": [
    "!{command}"
   ],
   "outputs": [],
   "execution_count": null
  },
  {
   "cell_type": "code",
   "metadata": {
    "id": "iJfYMbN6pfDL"
   },
   "source": [
    "FROZEN_TFLITE_PATH = os.path.join(paths['TFLITE_PATH'], 'saved_model')\n",
    "TFLITE_MODEL = os.path.join(paths['TFLITE_PATH'], 'saved_model', 'detect.tflite')"
   ],
   "outputs": [],
   "execution_count": null
  },
  {
   "cell_type": "code",
   "metadata": {},
   "source": [
    "command = \"tflite_convert \\\n",
    "--saved_model_dir={} \\\n",
    "--output_file={} \\\n",
    "--input_shapes=1,300,300,3 \\\n",
    "--input_arrays=normalized_input_image_tensor \\\n",
    "--output_arrays='TFLite_Detection_PostProcess','TFLite_Detection_PostProcess:1','TFLite_Detection_PostProcess:2','TFLite_Detection_PostProcess:3' \\\n",
    "--inference_type=FLOAT \\\n",
    "--allow_custom_ops\".format(FROZEN_TFLITE_PATH, TFLITE_MODEL, )"
   ],
   "outputs": [],
   "execution_count": null
  },
  {
   "cell_type": "code",
   "metadata": {
    "colab": {
     "base_uri": "https://localhost:8080/"
    },
    "id": "E8GwUeoFpfDL",
    "outputId": "fac43ea4-cc85-471b-a362-e994b06fd583"
   },
   "source": [
    "print(command)"
   ],
   "outputs": [],
   "execution_count": null
  },
  {
   "cell_type": "code",
   "metadata": {
    "colab": {
     "base_uri": "https://localhost:8080/"
    },
    "id": "Nbd7gqHMpfDL",
    "outputId": "7c8fe6d5-2415-4641-8548-39d425c202f7"
   },
   "source": [
    "!{command}"
   ],
   "outputs": [],
   "execution_count": null
  },
  {
   "cell_type": "markdown",
   "metadata": {
    "id": "5NQqZRdA21Uc"
   },
   "source": [
    "# 13. Zip and Export Models "
   ]
  },
  {
   "cell_type": "code",
   "metadata": {
    "id": "tTVTGCQp2ZJJ"
   },
   "source": [
    "!tar -czf models.tar.gz {paths['CHECKPOINT_PATH']}"
   ],
   "outputs": [],
   "execution_count": null
  },
  {
   "cell_type": "code",
   "metadata": {
    "colab": {
     "base_uri": "https://localhost:8080/"
    },
    "id": "whShhB0x3PYJ",
    "outputId": "b773201d-35c9-46a8-b893-4a76bd4d5d97"
   },
   "source": [
    "from google.colab import drive\n",
    "drive.mount('/content/drive')"
   ],
   "outputs": [],
   "execution_count": null
  }
 ],
 "metadata": {
  "accelerator": "GPU",
  "colab": {
   "name": "3. Training and Detection.ipynb",
   "provenance": []
  },
  "kernelspec": {
   "display_name": "Python 3 (ipykernel)",
   "language": "python",
   "name": "python3"
  },
  "language_info": {
   "codemirror_mode": {
    "name": "ipython",
    "version": 3
   },
   "file_extension": ".py",
   "mimetype": "text/x-python",
   "name": "python",
   "nbconvert_exporter": "python",
   "pygments_lexer": "ipython3",
   "version": "3.7.3"
  }
 },
 "nbformat": 4,
 "nbformat_minor": 1
}
